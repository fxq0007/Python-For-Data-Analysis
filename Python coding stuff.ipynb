{
 "cells": [
  {
   "cell_type": "markdown",
   "metadata": {},
   "source": [
    "# Python Basics"
   ]
  },
  {
   "cell_type": "markdown",
   "metadata": {},
   "source": [
    "##  List--mutable data type "
   ]
  },
  {
   "cell_type": "code",
   "execution_count": 1,
   "metadata": {
    "ExecuteTime": {
     "end_time": "2020-11-08T19:31:29.561119Z",
     "start_time": "2020-11-08T19:31:29.556838Z"
    }
   },
   "outputs": [
    {
     "name": "stdout",
     "output_type": "stream",
     "text": [
      "[27, 46, -5, 17, 99]\n"
     ]
    }
   ],
   "source": [
    "our_list=[27,46,-5,17,99]\n",
    "print(our_list)"
   ]
  },
  {
   "cell_type": "code",
   "execution_count": 3,
   "metadata": {},
   "outputs": [
    {
     "data": {
      "text/plain": [
       "list"
      ]
     },
     "execution_count": 3,
     "metadata": {},
     "output_type": "execute_result"
    }
   ],
   "source": [
    "type(our_list)"
   ]
  },
  {
   "cell_type": "code",
   "execution_count": 6,
   "metadata": {},
   "outputs": [
    {
     "data": {
      "text/plain": [
       "'Rey'"
      ]
     },
     "execution_count": 6,
     "metadata": {},
     "output_type": "execute_result"
    }
   ],
   "source": [
    "jackson = ['A', 'B', 'C', 1, 2, 3, 'Do', 'Rey', 'Mi', True, False]\n",
    "jackson[7]"
   ]
  },
  {
   "cell_type": "code",
   "execution_count": 7,
   "metadata": {},
   "outputs": [
    {
     "data": {
      "text/plain": [
       "['A', 'B', 'C']"
      ]
     },
     "execution_count": 7,
     "metadata": {},
     "output_type": "execute_result"
    }
   ],
   "source": [
    "jackson[0:3]"
   ]
  },
  {
   "cell_type": "code",
   "execution_count": 9,
   "metadata": {},
   "outputs": [
    {
     "data": {
      "text/plain": [
       "[3, 4, 5]"
      ]
     },
     "execution_count": 9,
     "metadata": {},
     "output_type": "execute_result"
    }
   ],
   "source": [
    "#list in list\n",
    "our_list=[1,2,[3,4,5],6,7,8]\n",
    "our_list[2]"
   ]
  },
  {
   "cell_type": "code",
   "execution_count": 11,
   "metadata": {},
   "outputs": [
    {
     "data": {
      "text/plain": [
       "3"
      ]
     },
     "execution_count": 11,
     "metadata": {},
     "output_type": "execute_result"
    }
   ],
   "source": [
    "our_list[2][0]"
   ]
  },
  {
   "cell_type": "code",
   "execution_count": 12,
   "metadata": {},
   "outputs": [
    {
     "data": {
      "text/plain": [
       "[3, 5]"
      ]
     },
     "execution_count": 12,
     "metadata": {},
     "output_type": "execute_result"
    }
   ],
   "source": [
    "#select two separate number from sub-list\n",
    "our_list[2][0::2]"
   ]
  },
  {
   "cell_type": "code",
   "execution_count": 13,
   "metadata": {},
   "outputs": [],
   "source": [
    "our_table=[[1,2,3],[4,5,6],[7,8,9]]"
   ]
  },
  {
   "cell_type": "code",
   "execution_count": 16,
   "metadata": {},
   "outputs": [
    {
     "data": {
      "text/plain": [
       "[1, 2, 3]"
      ]
     },
     "execution_count": 16,
     "metadata": {},
     "output_type": "execute_result"
    }
   ],
   "source": [
    "our_table[0]"
   ]
  },
  {
   "cell_type": "code",
   "execution_count": 17,
   "metadata": {},
   "outputs": [
    {
     "data": {
      "text/plain": [
       "2"
      ]
     },
     "execution_count": 17,
     "metadata": {},
     "output_type": "execute_result"
    }
   ],
   "source": [
    "our_table[0][1]"
   ]
  },
  {
   "cell_type": "code",
   "execution_count": 18,
   "metadata": {},
   "outputs": [
    {
     "data": {
      "text/plain": [
       "[5, 6]"
      ]
     },
     "execution_count": 18,
     "metadata": {},
     "output_type": "execute_result"
    }
   ],
   "source": [
    "our_table[1][1:]"
   ]
  },
  {
   "cell_type": "markdown",
   "metadata": {},
   "source": [
    "### Example 1:"
   ]
  },
  {
   "cell_type": "code",
   "execution_count": 27,
   "metadata": {},
   "outputs": [],
   "source": [
    "known_users=['Alice','Bob','Claire','Dan','Emma','Fred','Georgie','Harry']"
   ]
  },
  {
   "cell_type": "code",
   "execution_count": 67,
   "metadata": {},
   "outputs": [
    {
     "name": "stdout",
     "output_type": "stream",
     "text": [
      "Hi!My name is Travis\n",
      "   What is your name ?:   Alice\n",
      "Hello Alice!\n",
      "Would you like to be removed from the system(y/n)?:n\n",
      "We do not want to leave you anyway\n",
      "Hi!My name is Travis\n"
     ]
    },
    {
     "ename": "KeyboardInterrupt",
     "evalue": "Interrupted by user",
     "output_type": "error",
     "traceback": [
      "\u001b[1;31m---------------------------------------------------------------------------\u001b[0m",
      "\u001b[1;31mKeyboardInterrupt\u001b[0m                         Traceback (most recent call last)",
      "\u001b[1;32m<ipython-input-67-4d8c26421fc8>\u001b[0m in \u001b[0;36m<module>\u001b[1;34m\u001b[0m\n\u001b[0;32m      1\u001b[0m \u001b[1;32mwhile\u001b[0m \u001b[1;32mTrue\u001b[0m\u001b[1;33m:\u001b[0m\u001b[1;33m\u001b[0m\u001b[1;33m\u001b[0m\u001b[0m\n\u001b[0;32m      2\u001b[0m     \u001b[0mprint\u001b[0m \u001b[1;33m(\u001b[0m\u001b[1;34m'Hi!My name is Travis'\u001b[0m\u001b[1;33m)\u001b[0m\u001b[1;33m\u001b[0m\u001b[1;33m\u001b[0m\u001b[0m\n\u001b[1;32m----> 3\u001b[1;33m     \u001b[0mname\u001b[0m\u001b[1;33m=\u001b[0m\u001b[0minput\u001b[0m\u001b[1;33m(\u001b[0m\u001b[1;34m'   What is your name ?:   '\u001b[0m\u001b[1;33m)\u001b[0m\u001b[1;33m.\u001b[0m\u001b[0mstrip\u001b[0m\u001b[1;33m(\u001b[0m\u001b[1;33m)\u001b[0m\u001b[1;33m.\u001b[0m\u001b[0mcapitalize\u001b[0m\u001b[1;33m(\u001b[0m\u001b[1;33m)\u001b[0m\u001b[1;33m\u001b[0m\u001b[1;33m\u001b[0m\u001b[0m\n\u001b[0m\u001b[0;32m      4\u001b[0m     \u001b[1;31m# strip() Remove spaces at the beginning and at the end of the string\u001b[0m\u001b[1;33m\u001b[0m\u001b[1;33m\u001b[0m\u001b[1;33m\u001b[0m\u001b[0m\n\u001b[0;32m      5\u001b[0m     \u001b[1;31m#capitalize()让string第一个字母变大写其他变小写\u001b[0m\u001b[1;33m\u001b[0m\u001b[1;33m\u001b[0m\u001b[1;33m\u001b[0m\u001b[0m\n",
      "\u001b[1;32mD:\\Anaconda3\\envs\\tensorflow_env\\lib\\site-packages\\ipykernel\\kernelbase.py\u001b[0m in \u001b[0;36mraw_input\u001b[1;34m(self, prompt)\u001b[0m\n\u001b[0;32m    861\u001b[0m             \u001b[0mself\u001b[0m\u001b[1;33m.\u001b[0m\u001b[0m_parent_ident\u001b[0m\u001b[1;33m,\u001b[0m\u001b[1;33m\u001b[0m\u001b[1;33m\u001b[0m\u001b[0m\n\u001b[0;32m    862\u001b[0m             \u001b[0mself\u001b[0m\u001b[1;33m.\u001b[0m\u001b[0m_parent_header\u001b[0m\u001b[1;33m,\u001b[0m\u001b[1;33m\u001b[0m\u001b[1;33m\u001b[0m\u001b[0m\n\u001b[1;32m--> 863\u001b[1;33m             \u001b[0mpassword\u001b[0m\u001b[1;33m=\u001b[0m\u001b[1;32mFalse\u001b[0m\u001b[1;33m,\u001b[0m\u001b[1;33m\u001b[0m\u001b[1;33m\u001b[0m\u001b[0m\n\u001b[0m\u001b[0;32m    864\u001b[0m         )\n\u001b[0;32m    865\u001b[0m \u001b[1;33m\u001b[0m\u001b[0m\n",
      "\u001b[1;32mD:\\Anaconda3\\envs\\tensorflow_env\\lib\\site-packages\\ipykernel\\kernelbase.py\u001b[0m in \u001b[0;36m_input_request\u001b[1;34m(self, prompt, ident, parent, password)\u001b[0m\n\u001b[0;32m    902\u001b[0m             \u001b[1;32mexcept\u001b[0m \u001b[0mKeyboardInterrupt\u001b[0m\u001b[1;33m:\u001b[0m\u001b[1;33m\u001b[0m\u001b[1;33m\u001b[0m\u001b[0m\n\u001b[0;32m    903\u001b[0m                 \u001b[1;31m# re-raise KeyboardInterrupt, to truncate traceback\u001b[0m\u001b[1;33m\u001b[0m\u001b[1;33m\u001b[0m\u001b[1;33m\u001b[0m\u001b[0m\n\u001b[1;32m--> 904\u001b[1;33m                 \u001b[1;32mraise\u001b[0m \u001b[0mKeyboardInterrupt\u001b[0m\u001b[1;33m(\u001b[0m\u001b[1;34m\"Interrupted by user\"\u001b[0m\u001b[1;33m)\u001b[0m \u001b[1;32mfrom\u001b[0m \u001b[1;32mNone\u001b[0m\u001b[1;33m\u001b[0m\u001b[1;33m\u001b[0m\u001b[0m\n\u001b[0m\u001b[0;32m    905\u001b[0m             \u001b[1;32mexcept\u001b[0m \u001b[0mException\u001b[0m \u001b[1;32mas\u001b[0m \u001b[0me\u001b[0m\u001b[1;33m:\u001b[0m\u001b[1;33m\u001b[0m\u001b[1;33m\u001b[0m\u001b[0m\n\u001b[0;32m    906\u001b[0m                 \u001b[0mself\u001b[0m\u001b[1;33m.\u001b[0m\u001b[0mlog\u001b[0m\u001b[1;33m.\u001b[0m\u001b[0mwarning\u001b[0m\u001b[1;33m(\u001b[0m\u001b[1;34m\"Invalid Message:\"\u001b[0m\u001b[1;33m,\u001b[0m \u001b[0mexc_info\u001b[0m\u001b[1;33m=\u001b[0m\u001b[1;32mTrue\u001b[0m\u001b[1;33m)\u001b[0m\u001b[1;33m\u001b[0m\u001b[1;33m\u001b[0m\u001b[0m\n",
      "\u001b[1;31mKeyboardInterrupt\u001b[0m: Interrupted by user"
     ]
    }
   ],
   "source": [
    "while True:\n",
    "    print ('Hi!My name is Travis')\n",
    "    name=input('   What is your name ?:   ').strip().capitalize()\n",
    "    # strip() Remove spaces at the beginning and at the end of the string\n",
    "    #capitalize()让string第一个字母变大写其他变小写\n",
    "    if name in known_users:\n",
    "        print(f'Hello {name}!')# format(name)将name加入{}\n",
    "        remove=input('Would you like to be removed from the system(y/n)?:').lower()\n",
    "        if remove=='y':\n",
    "            known_users.remove(name)\n",
    "            print(known_users)\n",
    "        elif remove=='n':\n",
    "            print('We do not want to leave you anyway')\n",
    "    else:\n",
    "        print(\"Hmmm I don't think I have met you yet {}\".format(name))\n",
    "        add_me=input(\"Would you like to be added to the system(y/n)?:\").strip().lower()\n",
    "        if add_me=='y':\n",
    "              print(known_users)\n",
    "              known_users.append(name)\n",
    "              print(known_users)\n",
    "        elif add_me=='n':\n",
    "            print('No worries, we will see you around')"
   ]
  },
  {
   "cell_type": "code",
   "execution_count": 33,
   "metadata": {},
   "outputs": [],
   "source": [
    "#delete terms in a list\n",
    "L=[1,2,3,4,5]\n",
    "del L[0]"
   ]
  },
  {
   "cell_type": "code",
   "execution_count": 34,
   "metadata": {},
   "outputs": [
    {
     "data": {
      "text/plain": [
       "[2, 3, 4, 5]"
      ]
     },
     "execution_count": 34,
     "metadata": {},
     "output_type": "execute_result"
    }
   ],
   "source": [
    "L"
   ]
  },
  {
   "cell_type": "code",
   "execution_count": 35,
   "metadata": {},
   "outputs": [
    {
     "data": {
      "text/plain": [
       "[4, 5]"
      ]
     },
     "execution_count": 35,
     "metadata": {},
     "output_type": "execute_result"
    }
   ],
   "source": [
    "del L[0:2]\n",
    "L"
   ]
  },
  {
   "cell_type": "code",
   "execution_count": 52,
   "metadata": {},
   "outputs": [
    {
     "data": {
      "text/plain": [
       "[5, 12, 72, 55, 89]"
      ]
     },
     "execution_count": 52,
     "metadata": {},
     "output_type": "execute_result"
    }
   ],
   "source": [
    "#other ways to append items into a list\n",
    "A=[5,12,72,55,89]\n",
    "A"
   ]
  },
  {
   "cell_type": "code",
   "execution_count": 44,
   "metadata": {},
   "outputs": [
    {
     "data": {
      "text/plain": [
       "[5, 12, 72, 55, 89, 1]"
      ]
     },
     "execution_count": 44,
     "metadata": {},
     "output_type": "execute_result"
    }
   ],
   "source": [
    "A.append(1)\n",
    "A"
   ]
  },
  {
   "cell_type": "code",
   "execution_count": 45,
   "metadata": {},
   "outputs": [
    {
     "data": {
      "text/plain": [
       "[5, 12, 72, 55, 89, 1, 1]"
      ]
     },
     "execution_count": 45,
     "metadata": {},
     "output_type": "execute_result"
    }
   ],
   "source": [
    "A=A+[1]\n",
    "A"
   ]
  },
  {
   "cell_type": "code",
   "execution_count": 47,
   "metadata": {},
   "outputs": [
    {
     "data": {
      "text/plain": [
       "[5, 12, 72, 55, 89, 1, 1, 'BCD', 'BCD']"
      ]
     },
     "execution_count": 47,
     "metadata": {},
     "output_type": "execute_result"
    }
   ],
   "source": [
    "A=A+['BCD']\n",
    "A"
   ]
  },
  {
   "cell_type": "code",
   "execution_count": 48,
   "metadata": {},
   "outputs": [
    {
     "data": {
      "text/plain": [
       "[5, 12, 72, 55, 89, 1, 1, 'BCD', 'BCD', 'B', 'C', 'D']"
      ]
     },
     "execution_count": 48,
     "metadata": {},
     "output_type": "execute_result"
    }
   ],
   "source": [
    "A=A+list('BCD')\n",
    "A"
   ]
  },
  {
   "cell_type": "code",
   "execution_count": 49,
   "metadata": {},
   "outputs": [
    {
     "data": {
      "text/plain": [
       "[5, 12, 72, 55, 89, 1, 1, 'BCD', 'BCD', 'B', 'C', 'D', 1, 2, 3]"
      ]
     },
     "execution_count": 49,
     "metadata": {},
     "output_type": "execute_result"
    }
   ],
   "source": [
    "A=A+[1,2,3]\n",
    "A"
   ]
  },
  {
   "cell_type": "code",
   "execution_count": 50,
   "metadata": {},
   "outputs": [
    {
     "data": {
      "text/plain": [
       "[5, 12, 72, 55, 89, 1, 1, 'BCD', 'BCD', 'B', 'C', 'D', 1, 2, 3, '1', '2', '3']"
      ]
     },
     "execution_count": 50,
     "metadata": {},
     "output_type": "execute_result"
    }
   ],
   "source": [
    "A=A+list(str(123))# str(123) convert 123 into string\n",
    "A"
   ]
  },
  {
   "cell_type": "code",
   "execution_count": 53,
   "metadata": {},
   "outputs": [
    {
     "data": {
      "text/plain": [
       "[5, 12, 72, 55, 89, [5, 6, 7, 8]]"
      ]
     },
     "execution_count": 53,
     "metadata": {},
     "output_type": "execute_result"
    }
   ],
   "source": [
    "A=A+[[5,6,7,8]]#add a list into list\n",
    "A"
   ]
  },
  {
   "cell_type": "code",
   "execution_count": 54,
   "metadata": {},
   "outputs": [
    {
     "data": {
      "text/plain": [
       "[5, 12, 100, 72, 55, 89, [5, 6, 7, 8]]"
      ]
     },
     "execution_count": 54,
     "metadata": {},
     "output_type": "execute_result"
    }
   ],
   "source": [
    "#insert a number into the list at a specific position\n",
    "A.insert(2,100)# insert 100 at index 2\n",
    "A"
   ]
  },
  {
   "cell_type": "code",
   "execution_count": 55,
   "metadata": {},
   "outputs": [
    {
     "data": {
      "text/plain": [
       "[5, 12, [10, 20, 30], 100, 72, 55, 89, [5, 6, 7, 8]]"
      ]
     },
     "execution_count": 55,
     "metadata": {},
     "output_type": "execute_result"
    }
   ],
   "source": [
    "#insert a sub-list into the list a t a specific position\n",
    "A.insert(2,[10,20,30])\n",
    "A"
   ]
  },
  {
   "cell_type": "code",
   "execution_count": 56,
   "metadata": {},
   "outputs": [
    {
     "data": {
      "text/plain": [
       "[5, 12, 100, 72, 55, 89, [5, 6, 7, 8]]"
      ]
     },
     "execution_count": 56,
     "metadata": {},
     "output_type": "execute_result"
    }
   ],
   "source": [
    "# remove item from the list\n",
    "A.remove([10,20,30])\n",
    "A"
   ]
  },
  {
   "cell_type": "markdown",
   "metadata": {
    "heading_collapsed": true
   },
   "source": [
    "## Tuples--immutable data type: cannot be changed"
   ]
  },
  {
   "cell_type": "code",
   "execution_count": 57,
   "metadata": {
    "hidden": true
   },
   "outputs": [
    {
     "data": {
      "text/plain": [
       "tuple"
      ]
     },
     "execution_count": 57,
     "metadata": {},
     "output_type": "execute_result"
    }
   ],
   "source": [
    "our_tuple=(1,2,3,'A','B','C')\n",
    "type(our_tuple)"
   ]
  },
  {
   "cell_type": "code",
   "execution_count": 58,
   "metadata": {
    "hidden": true
   },
   "outputs": [
    {
     "data": {
      "text/plain": [
       "(1, 2, 3)"
      ]
     },
     "execution_count": 58,
     "metadata": {},
     "output_type": "execute_result"
    }
   ],
   "source": [
    "our_tuple[0:3]"
   ]
  },
  {
   "cell_type": "code",
   "execution_count": 60,
   "metadata": {
    "hidden": true
   },
   "outputs": [],
   "source": [
    "A=[1,2,3]"
   ]
  },
  {
   "cell_type": "code",
   "execution_count": 61,
   "metadata": {
    "hidden": true
   },
   "outputs": [
    {
     "data": {
      "text/plain": [
       "(1, 2, 3)"
      ]
     },
     "execution_count": 61,
     "metadata": {},
     "output_type": "execute_result"
    }
   ],
   "source": [
    "# turn a list into a tuple\n",
    "A=tuple(A)\n",
    "A"
   ]
  },
  {
   "cell_type": "code",
   "execution_count": 62,
   "metadata": {
    "hidden": true
   },
   "outputs": [],
   "source": [
    "#assign tuple to values\n",
    "(A,B,C)=1,2,3"
   ]
  },
  {
   "cell_type": "code",
   "execution_count": 63,
   "metadata": {
    "hidden": true
   },
   "outputs": [
    {
     "data": {
      "text/plain": [
       "1"
      ]
     },
     "execution_count": 63,
     "metadata": {},
     "output_type": "execute_result"
    }
   ],
   "source": [
    "A"
   ]
  },
  {
   "cell_type": "code",
   "execution_count": 64,
   "metadata": {
    "hidden": true
   },
   "outputs": [
    {
     "data": {
      "text/plain": [
       "2"
      ]
     },
     "execution_count": 64,
     "metadata": {},
     "output_type": "execute_result"
    }
   ],
   "source": [
    "B"
   ]
  },
  {
   "cell_type": "code",
   "execution_count": 65,
   "metadata": {
    "hidden": true
   },
   "outputs": [
    {
     "data": {
      "text/plain": [
       "3"
      ]
     },
     "execution_count": 65,
     "metadata": {},
     "output_type": "execute_result"
    }
   ],
   "source": [
    "C"
   ]
  },
  {
   "cell_type": "markdown",
   "metadata": {},
   "source": [
    "## Dictionaries"
   ]
  },
  {
   "cell_type": "code",
   "execution_count": 68,
   "metadata": {},
   "outputs": [],
   "source": [
    "students={'Alice':25,'Bob':27,'Claire':17,'Dan':21,'Emma':22}"
   ]
  },
  {
   "cell_type": "code",
   "execution_count": 69,
   "metadata": {},
   "outputs": [
    {
     "data": {
      "text/plain": [
       "21"
      ]
     },
     "execution_count": 69,
     "metadata": {},
     "output_type": "execute_result"
    }
   ],
   "source": [
    "students['Dan']"
   ]
  },
  {
   "cell_type": "code",
   "execution_count": 70,
   "metadata": {},
   "outputs": [
    {
     "data": {
      "text/plain": [
       "25"
      ]
     },
     "execution_count": 70,
     "metadata": {},
     "output_type": "execute_result"
    }
   ],
   "source": [
    "#add item to dictionary\n",
    "students['Fred']=25\n",
    "students['Fred']"
   ]
  },
  {
   "cell_type": "code",
   "execution_count": 71,
   "metadata": {},
   "outputs": [
    {
     "data": {
      "text/plain": [
       "26"
      ]
     },
     "execution_count": 71,
     "metadata": {},
     "output_type": "execute_result"
    }
   ],
   "source": [
    "#make change on item in dictionary\n",
    "students['Alice']=26\n",
    "students['Alice']"
   ]
  },
  {
   "cell_type": "code",
   "execution_count": 72,
   "metadata": {},
   "outputs": [
    {
     "ename": "KeyError",
     "evalue": "'Fred'",
     "output_type": "error",
     "traceback": [
      "\u001b[1;31m---------------------------------------------------------------------------\u001b[0m",
      "\u001b[1;31mKeyError\u001b[0m                                  Traceback (most recent call last)",
      "\u001b[1;32m<ipython-input-72-37abef494b02>\u001b[0m in \u001b[0;36m<module>\u001b[1;34m\u001b[0m\n\u001b[0;32m      1\u001b[0m \u001b[1;31m#delete an item from dictionary\u001b[0m\u001b[1;33m\u001b[0m\u001b[1;33m\u001b[0m\u001b[1;33m\u001b[0m\u001b[0m\n\u001b[0;32m      2\u001b[0m \u001b[1;32mdel\u001b[0m \u001b[0mstudents\u001b[0m\u001b[1;33m[\u001b[0m\u001b[1;34m'Fred'\u001b[0m\u001b[1;33m]\u001b[0m\u001b[1;33m\u001b[0m\u001b[1;33m\u001b[0m\u001b[0m\n\u001b[1;32m----> 3\u001b[1;33m \u001b[0mstudents\u001b[0m\u001b[1;33m[\u001b[0m\u001b[1;34m'Fred'\u001b[0m\u001b[1;33m]\u001b[0m\u001b[1;33m\u001b[0m\u001b[1;33m\u001b[0m\u001b[0m\n\u001b[0m",
      "\u001b[1;31mKeyError\u001b[0m: 'Fred'"
     ]
    }
   ],
   "source": [
    "#delete an item from dictionary\n",
    "del students['Fred']\n",
    "students['Fred']"
   ]
  },
  {
   "cell_type": "code",
   "execution_count": 73,
   "metadata": {},
   "outputs": [
    {
     "data": {
      "text/plain": [
       "['Alice', 'Bob', 'Claire', 'Dan', 'Emma']"
      ]
     },
     "execution_count": 73,
     "metadata": {},
     "output_type": "execute_result"
    }
   ],
   "source": [
    "# convert keys and values into a list and call them by indexes\n",
    "a=list(students.keys())\n",
    "a"
   ]
  },
  {
   "cell_type": "code",
   "execution_count": 74,
   "metadata": {},
   "outputs": [
    {
     "data": {
      "text/plain": [
       "'Alice'"
      ]
     },
     "execution_count": 74,
     "metadata": {},
     "output_type": "execute_result"
    }
   ],
   "source": [
    "a[0]"
   ]
  },
  {
   "cell_type": "code",
   "execution_count": 75,
   "metadata": {},
   "outputs": [
    {
     "data": {
      "text/plain": [
       "dict_values([26, 27, 17, 21, 22])"
      ]
     },
     "execution_count": 75,
     "metadata": {},
     "output_type": "execute_result"
    }
   ],
   "source": [
    "students.values()"
   ]
  },
  {
   "cell_type": "code",
   "execution_count": 77,
   "metadata": {},
   "outputs": [
    {
     "data": {
      "text/plain": [
       "[17, 21, 22]"
      ]
     },
     "execution_count": 77,
     "metadata": {},
     "output_type": "execute_result"
    }
   ],
   "source": [
    "list(students.values())[2:]"
   ]
  },
  {
   "cell_type": "code",
   "execution_count": 78,
   "metadata": {},
   "outputs": [
    {
     "name": "stdout",
     "output_type": "stream",
     "text": [
      "{'Alice': 26, 'Bob': 27, 'Claire': 17, 'Dan': 21, 'Emma': 22}\n"
     ]
    }
   ],
   "source": [
    "# order of the dictionary doesn't necessary order\n",
    "print(students)"
   ]
  },
  {
   "cell_type": "code",
   "execution_count": 80,
   "metadata": {},
   "outputs": [
    {
     "data": {
      "text/plain": [
       "dict_items([('Alice', 26), ('Bob', 27), ('Claire', 17), ('Dan', 21), ('Emma', 22)])"
      ]
     },
     "execution_count": 80,
     "metadata": {},
     "output_type": "execute_result"
    }
   ],
   "source": [
    "students.items()"
   ]
  },
  {
   "cell_type": "code",
   "execution_count": 2,
   "metadata": {
    "ExecuteTime": {
     "end_time": "2020-11-08T19:37:22.773181Z",
     "start_time": "2020-11-08T19:37:22.768951Z"
    }
   },
   "outputs": [],
   "source": [
    "# Give a single key multiple values\n",
    "students={'Alice':['ID0001',26,'A'],\n",
    "          'Bob':['ID0002',27,'B'],\n",
    "          'Claire':['ID0003',17,'C'],\n",
    "          'Dan':['ID0004',21,'D'],\n",
    "          'Emma':['ID0005',22,'E']}"
   ]
  },
  {
   "cell_type": "code",
   "execution_count": 85,
   "metadata": {},
   "outputs": [
    {
     "name": "stdout",
     "output_type": "stream",
     "text": [
      "ID0003\n"
     ]
    }
   ],
   "source": [
    "print(students['Claire'][0])"
   ]
  },
  {
   "cell_type": "code",
   "execution_count": 86,
   "metadata": {},
   "outputs": [
    {
     "name": "stdout",
     "output_type": "stream",
     "text": [
      "[21, 'D']\n"
     ]
    }
   ],
   "source": [
    "print(students['Dan'][1:])"
   ]
  },
  {
   "cell_type": "code",
   "execution_count": 87,
   "metadata": {},
   "outputs": [],
   "source": [
    "#dictionaries inside dictionary\n",
    "students={'Alice':{'id':'ID0001','age':26,'grade':'A'},\n",
    "          'Bob':{'id':'ID0002','age':27,'grade':'B'},\n",
    "          'Claire':{'id':'ID0003','age':17,'grade':'C'},\n",
    "          'Dan':{'id':'ID0004','age':21,'grade':'D'},\n",
    "          'Emma':{'id':'ID0005','age':22,'grade':'E'}}"
   ]
  },
  {
   "cell_type": "code",
   "execution_count": 88,
   "metadata": {},
   "outputs": [
    {
     "name": "stdout",
     "output_type": "stream",
     "text": [
      "21\n"
     ]
    }
   ],
   "source": [
    "print(students['Dan']['age'])"
   ]
  },
  {
   "cell_type": "markdown",
   "metadata": {},
   "source": [
    "### Project 1: Cinema Simulator"
   ]
  },
  {
   "cell_type": "code",
   "execution_count": 90,
   "metadata": {},
   "outputs": [],
   "source": [
    "films={\n",
    "    'Finding Dory':[3,5],\n",
    "    'Bourne':[18,5],\n",
    "    'Tarzan':[15,5],\n",
    "    'Ghost Busters':[12,5]\n",
    "}"
   ]
  },
  {
   "cell_type": "code",
   "execution_count": 94,
   "metadata": {},
   "outputs": [
    {
     "name": "stdout",
     "output_type": "stream",
     "text": [
      "What film would you like to watch?:Tarzan\n",
      "How old are you?:15\n",
      "Enjoy the film\n",
      "What film would you like to watch?:Tarzan\n",
      "How old are you?:15\n",
      "Enjoy the film\n",
      "What film would you like to watch?:Tarzan\n",
      "How old are you?:15\n",
      "Enjoy the film\n",
      "What film would you like to watch?:Tarzan\n",
      "How old are you?:15\n",
      "Sorry, we are sold out!\n",
      "What film would you like to watch?:Tarzan\n",
      "How old are you?:15\n",
      "Sorry, we are sold out!\n"
     ]
    },
    {
     "ename": "KeyboardInterrupt",
     "evalue": "Interrupted by user",
     "output_type": "error",
     "traceback": [
      "\u001b[1;31m---------------------------------------------------------------------------\u001b[0m",
      "\u001b[1;31mKeyboardInterrupt\u001b[0m                         Traceback (most recent call last)",
      "\u001b[1;32m<ipython-input-94-b1464194974f>\u001b[0m in \u001b[0;36m<module>\u001b[1;34m\u001b[0m\n\u001b[0;32m      1\u001b[0m \u001b[1;32mwhile\u001b[0m \u001b[1;32mTrue\u001b[0m\u001b[1;33m:\u001b[0m\u001b[1;33m\u001b[0m\u001b[1;33m\u001b[0m\u001b[0m\n\u001b[1;32m----> 2\u001b[1;33m     \u001b[0mchoice\u001b[0m\u001b[1;33m=\u001b[0m\u001b[0minput\u001b[0m\u001b[1;33m(\u001b[0m\u001b[1;34m'What film would you like to watch?:'\u001b[0m\u001b[1;33m)\u001b[0m\u001b[1;33m.\u001b[0m\u001b[0mstrip\u001b[0m\u001b[1;33m(\u001b[0m\u001b[1;33m)\u001b[0m\u001b[1;33m.\u001b[0m\u001b[0mtitle\u001b[0m\u001b[1;33m(\u001b[0m\u001b[1;33m)\u001b[0m\u001b[1;33m\u001b[0m\u001b[1;33m\u001b[0m\u001b[0m\n\u001b[0m\u001b[0;32m      3\u001b[0m     \u001b[1;32mif\u001b[0m \u001b[0mchoice\u001b[0m \u001b[1;32min\u001b[0m \u001b[0mfilms\u001b[0m\u001b[1;33m:\u001b[0m\u001b[1;33m\u001b[0m\u001b[1;33m\u001b[0m\u001b[0m\n\u001b[0;32m      4\u001b[0m         \u001b[0mage\u001b[0m\u001b[1;33m=\u001b[0m\u001b[0mint\u001b[0m\u001b[1;33m(\u001b[0m\u001b[0minput\u001b[0m\u001b[1;33m(\u001b[0m\u001b[1;34m'How old are you?:'\u001b[0m\u001b[1;33m)\u001b[0m\u001b[1;33m.\u001b[0m\u001b[0mstrip\u001b[0m\u001b[1;33m(\u001b[0m\u001b[1;33m)\u001b[0m\u001b[1;33m)\u001b[0m\u001b[1;33m\u001b[0m\u001b[1;33m\u001b[0m\u001b[0m\n\u001b[0;32m      5\u001b[0m         \u001b[1;32mif\u001b[0m \u001b[0mage\u001b[0m\u001b[1;33m>=\u001b[0m\u001b[0mfilms\u001b[0m\u001b[1;33m[\u001b[0m\u001b[0mchoice\u001b[0m\u001b[1;33m]\u001b[0m\u001b[1;33m[\u001b[0m\u001b[1;36m0\u001b[0m\u001b[1;33m]\u001b[0m\u001b[1;33m:\u001b[0m\u001b[1;33m\u001b[0m\u001b[1;33m\u001b[0m\u001b[0m\n",
      "\u001b[1;32mD:\\Anaconda3\\envs\\tensorflow_env\\lib\\site-packages\\ipykernel\\kernelbase.py\u001b[0m in \u001b[0;36mraw_input\u001b[1;34m(self, prompt)\u001b[0m\n\u001b[0;32m    861\u001b[0m             \u001b[0mself\u001b[0m\u001b[1;33m.\u001b[0m\u001b[0m_parent_ident\u001b[0m\u001b[1;33m,\u001b[0m\u001b[1;33m\u001b[0m\u001b[1;33m\u001b[0m\u001b[0m\n\u001b[0;32m    862\u001b[0m             \u001b[0mself\u001b[0m\u001b[1;33m.\u001b[0m\u001b[0m_parent_header\u001b[0m\u001b[1;33m,\u001b[0m\u001b[1;33m\u001b[0m\u001b[1;33m\u001b[0m\u001b[0m\n\u001b[1;32m--> 863\u001b[1;33m             \u001b[0mpassword\u001b[0m\u001b[1;33m=\u001b[0m\u001b[1;32mFalse\u001b[0m\u001b[1;33m,\u001b[0m\u001b[1;33m\u001b[0m\u001b[1;33m\u001b[0m\u001b[0m\n\u001b[0m\u001b[0;32m    864\u001b[0m         )\n\u001b[0;32m    865\u001b[0m \u001b[1;33m\u001b[0m\u001b[0m\n",
      "\u001b[1;32mD:\\Anaconda3\\envs\\tensorflow_env\\lib\\site-packages\\ipykernel\\kernelbase.py\u001b[0m in \u001b[0;36m_input_request\u001b[1;34m(self, prompt, ident, parent, password)\u001b[0m\n\u001b[0;32m    902\u001b[0m             \u001b[1;32mexcept\u001b[0m \u001b[0mKeyboardInterrupt\u001b[0m\u001b[1;33m:\u001b[0m\u001b[1;33m\u001b[0m\u001b[1;33m\u001b[0m\u001b[0m\n\u001b[0;32m    903\u001b[0m                 \u001b[1;31m# re-raise KeyboardInterrupt, to truncate traceback\u001b[0m\u001b[1;33m\u001b[0m\u001b[1;33m\u001b[0m\u001b[1;33m\u001b[0m\u001b[0m\n\u001b[1;32m--> 904\u001b[1;33m                 \u001b[1;32mraise\u001b[0m \u001b[0mKeyboardInterrupt\u001b[0m\u001b[1;33m(\u001b[0m\u001b[1;34m\"Interrupted by user\"\u001b[0m\u001b[1;33m)\u001b[0m \u001b[1;32mfrom\u001b[0m \u001b[1;32mNone\u001b[0m\u001b[1;33m\u001b[0m\u001b[1;33m\u001b[0m\u001b[0m\n\u001b[0m\u001b[0;32m    905\u001b[0m             \u001b[1;32mexcept\u001b[0m \u001b[0mException\u001b[0m \u001b[1;32mas\u001b[0m \u001b[0me\u001b[0m\u001b[1;33m:\u001b[0m\u001b[1;33m\u001b[0m\u001b[1;33m\u001b[0m\u001b[0m\n\u001b[0;32m    906\u001b[0m                 \u001b[0mself\u001b[0m\u001b[1;33m.\u001b[0m\u001b[0mlog\u001b[0m\u001b[1;33m.\u001b[0m\u001b[0mwarning\u001b[0m\u001b[1;33m(\u001b[0m\u001b[1;34m\"Invalid Message:\"\u001b[0m\u001b[1;33m,\u001b[0m \u001b[0mexc_info\u001b[0m\u001b[1;33m=\u001b[0m\u001b[1;32mTrue\u001b[0m\u001b[1;33m)\u001b[0m\u001b[1;33m\u001b[0m\u001b[1;33m\u001b[0m\u001b[0m\n",
      "\u001b[1;31mKeyboardInterrupt\u001b[0m: Interrupted by user"
     ]
    }
   ],
   "source": [
    "while True:\n",
    "    choice=input('What film would you like to watch?:').strip().title()\n",
    "    if choice in films:\n",
    "        age=int(input('How old are you?:').strip())\n",
    "        if age>=films[choice][0]:\n",
    "            if films[choice][1]>0:\n",
    "                print('Enjoy the film')\n",
    "                films[choice][1]=films[choice][1]-1\n",
    "            else:\n",
    "                print('Sorry, we are sold out!')\n",
    "        else:\n",
    "            print('You are too young to see that film!')\n",
    "    else:\n",
    "        print(\"We don't have that film...\")"
   ]
  },
  {
   "cell_type": "markdown",
   "metadata": {},
   "source": [
    "## For-While loops"
   ]
  },
  {
   "cell_type": "markdown",
   "metadata": {},
   "source": [
    "### Project 2: baby conversation simulator on while loop"
   ]
  },
  {
   "cell_type": "code",
   "execution_count": 3,
   "metadata": {
    "ExecuteTime": {
     "end_time": "2020-11-17T16:28:51.530565Z",
     "start_time": "2020-11-17T16:28:32.490365Z"
    }
   },
   "outputs": [
    {
     "name": "stdout",
     "output_type": "stream",
     "text": [
      "Why is the sky blue?:dead\n",
      "why?:just because\n"
     ]
    }
   ],
   "source": [
    "from random import choice\n",
    "questions=['Why is the sky blue?:','Why is there a face on the moon?:','Where are all the dinosaurs?:']\n",
    "question=choice(questions)\n",
    "answer=input(question).lower()\n",
    "while answer!='just because':\n",
    "    answer=input('why?:').strip().lower()"
   ]
  },
  {
   "cell_type": "markdown",
   "metadata": {},
   "source": [
    "### For loops in lists and strings"
   ]
  },
  {
   "cell_type": "code",
   "execution_count": 4,
   "metadata": {
    "ExecuteTime": {
     "end_time": "2020-11-17T16:34:35.419645Z",
     "start_time": "2020-11-17T16:34:35.414659Z"
    }
   },
   "outputs": [
    {
     "name": "stdout",
     "output_type": "stream",
     "text": [
      "a\n",
      "b\n",
      "c\n",
      "d\n"
     ]
    }
   ],
   "source": [
    "for letter in 'abcd':\n",
    "    print(letter)"
   ]
  },
  {
   "cell_type": "code",
   "execution_count": 5,
   "metadata": {
    "ExecuteTime": {
     "end_time": "2020-11-17T16:35:34.802701Z",
     "start_time": "2020-11-17T16:35:34.795080Z"
    }
   },
   "outputs": [
    {
     "name": "stdout",
     "output_type": "stream",
     "text": [
      "1\n",
      "3\n",
      "5\n",
      "7\n",
      "9\n"
     ]
    }
   ],
   "source": [
    "for number in range(1,11,2):\n",
    "    print(number)"
   ]
  },
  {
   "cell_type": "code",
   "execution_count": 6,
   "metadata": {
    "ExecuteTime": {
     "end_time": "2020-11-17T16:40:25.252192Z",
     "start_time": "2020-11-17T16:40:25.245209Z"
    }
   },
   "outputs": [
    {
     "name": "stdout",
     "output_type": "stream",
     "text": [
      "There are 2 vowels\n",
      "There are 3 consonants\n"
     ]
    }
   ],
   "source": [
    "vowels=0\n",
    "consonants=0\n",
    "for letter in 'Hello':\n",
    "    if letter.lower() in 'aeiou':\n",
    "        vowels=vowels+1\n",
    "    elif letter=='':\n",
    "        pass\n",
    "    else:\n",
    "        consonants=consonants+1\n",
    "print('There are {} vowels'.format(vowels))\n",
    "print('There are {} consonants'.format(consonants)) "
   ]
  },
  {
   "cell_type": "markdown",
   "metadata": {},
   "source": [
    "### For loops in dictionaries"
   ]
  },
  {
   "cell_type": "code",
   "execution_count": 10,
   "metadata": {
    "ExecuteTime": {
     "end_time": "2020-11-17T16:59:22.028759Z",
     "start_time": "2020-11-17T16:59:22.018967Z"
    }
   },
   "outputs": [
    {
     "name": "stdout",
     "output_type": "stream",
     "text": [
      "Charlie\n",
      "Harry\n",
      "Frank\n",
      "Sarah\n",
      "Huda\n",
      "Samantha\n",
      "Elizabeth\n"
     ]
    }
   ],
   "source": [
    "students={'male':['Tom','Charlie','Harry','Frank'],\n",
    "          'female':['Sarah','Huda','Samantha','Emily','Elizabeth']\n",
    "}\n",
    "for key in students.keys():\n",
    "    for name in students[key]:\n",
    "        if 'a' in name:\n",
    "            print(name)"
   ]
  },
  {
   "cell_type": "markdown",
   "metadata": {
    "ExecuteTime": {
     "end_time": "2020-11-17T17:00:25.074342Z",
     "start_time": "2020-11-17T17:00:25.068329Z"
    }
   },
   "source": [
    "## List comprehensions"
   ]
  },
  {
   "cell_type": "code",
   "execution_count": 12,
   "metadata": {
    "ExecuteTime": {
     "end_time": "2020-11-17T17:16:11.455687Z",
     "start_time": "2020-11-17T17:16:11.448531Z"
    }
   },
   "outputs": [
    {
     "name": "stdout",
     "output_type": "stream",
     "text": [
      "[2, 4, 6, 8, 10, 12, 14, 16, 18, 20, 22, 24, 26, 28, 30, 32, 34, 36, 38, 40, 42, 44, 46, 48, 50, 52, 54, 56, 58, 60, 62, 64, 66, 68, 70, 72, 74, 76, 78, 80, 82, 84, 86, 88, 90, 92, 94, 96, 98, 100]\n"
     ]
    }
   ],
   "source": [
    "even_numbers=[x for x in range(1,101)if x%2==0]\n",
    "print(even_numbers)"
   ]
  },
  {
   "cell_type": "code",
   "execution_count": 13,
   "metadata": {
    "ExecuteTime": {
     "end_time": "2020-11-17T17:17:24.716185Z",
     "start_time": "2020-11-17T17:17:24.708188Z"
    }
   },
   "outputs": [
    {
     "name": "stdout",
     "output_type": "stream",
     "text": [
      "[1, 3, 5, 7, 9, 11, 13, 15, 17, 19, 21, 23, 25, 27, 29, 31, 33, 35, 37, 39, 41, 43, 45, 47, 49, 51, 53, 55, 57, 59, 61, 63, 65, 67, 69, 71, 73, 75, 77, 79, 81, 83, 85, 87, 89, 91, 93, 95, 97, 99]\n"
     ]
    }
   ],
   "source": [
    "odd_numbers=[x for x in range(1,101)if x%2!=0]\n",
    "print(odd_numbers)"
   ]
  },
  {
   "cell_type": "code",
   "execution_count": 14,
   "metadata": {
    "ExecuteTime": {
     "end_time": "2020-11-17T17:19:07.173899Z",
     "start_time": "2020-11-17T17:19:07.159454Z"
    }
   },
   "outputs": [
    {
     "name": "stdout",
     "output_type": "stream",
     "text": [
      "[['THE', 'the', 3], ['QUICK', 'quick', 5], ['BROWN', 'brown', 5], ['FOX', 'fox', 3], ['JUMPS', 'jumps', 5], ['OVER', 'over', 4], ['THE', 'the', 3], ['LAZY', 'lazy', 4], ['DOG', 'dog', 3]]\n"
     ]
    }
   ],
   "source": [
    "words=['the','quick','brown','fox','jumps','over','the','lazy','dog']\n",
    "answer=[[w.upper(),w.lower(),len(w)]for w in words]\n",
    "print(answer)"
   ]
  },
  {
   "cell_type": "markdown",
   "metadata": {},
   "source": [
    "### Project 3: Pig Latin translator"
   ]
  },
  {
   "cell_type": "code",
   "execution_count": 21,
   "metadata": {
    "ExecuteTime": {
     "end_time": "2020-11-17T18:06:11.841973Z",
     "start_time": "2020-11-17T18:05:51.929310Z"
    }
   },
   "outputs": [
    {
     "name": "stdout",
     "output_type": "stream",
     "text": [
      "Please enter a sentence:Hello my name is Vincy its great to meet you\n",
      "['hello', 'my', 'name', 'is', 'vincy', 'its', 'great', 'to', 'meet', 'you']\n",
      "['ellohay', 'myay', 'amenay', 'isyay', 'incyvay', 'itsyay', 'eatgray', 'otay', 'eetmay', 'ouyay']\n",
      "ellohay myay amenay isyay incyvay itsyay eatgray otay eetmay ouyay\n"
     ]
    }
   ],
   "source": [
    "# get sentence from user\n",
    "original=input('Please enter a sentence:').strip().lower()\n",
    "#split sentence into words\n",
    "words=original.split()\n",
    "print(words)\n",
    "#loop through words and convert to pig latin\n",
    "new_words=[]\n",
    "#if start with vowel, just add 'yay'\n",
    "for word in words:\n",
    "    if word[0] in 'aeiou':\n",
    "        new_word=word+'yay'\n",
    "        new_words.append(new_word)\n",
    "    else:\n",
    "        vowel_pos=0\n",
    "        for letter in word:\n",
    "            if letter not in 'aeiou':\n",
    "                vowel_pos=vowel_pos+1\n",
    "            else:\n",
    "                break\n",
    "        cons=word[:vowel_pos]\n",
    "        the_rest=word[vowel_pos:]\n",
    "        new_word=the_rest+cons+'ay'\n",
    "        new_words.append(new_word)\n",
    "print(new_words) \n",
    "#stick words together\n",
    "output=\" \".join(new_words)\n",
    "#output the final string\n",
    "print(output)"
   ]
  },
  {
   "cell_type": "markdown",
   "metadata": {},
   "source": [
    "## Functions"
   ]
  },
  {
   "cell_type": "markdown",
   "metadata": {},
   "source": [
    "### Basic Functions"
   ]
  },
  {
   "cell_type": "code",
   "execution_count": 22,
   "metadata": {
    "ExecuteTime": {
     "end_time": "2020-11-18T17:47:19.467185Z",
     "start_time": "2020-11-18T17:47:19.457125Z"
    }
   },
   "outputs": [],
   "source": [
    "def add(x,y):\n",
    "    return x+y"
   ]
  },
  {
   "cell_type": "code",
   "execution_count": 23,
   "metadata": {
    "ExecuteTime": {
     "end_time": "2020-11-18T17:47:30.071936Z",
     "start_time": "2020-11-18T17:47:30.067546Z"
    }
   },
   "outputs": [
    {
     "data": {
      "text/plain": [
       "15"
      ]
     },
     "execution_count": 23,
     "metadata": {},
     "output_type": "execute_result"
    }
   ],
   "source": [
    "add(5,10)"
   ]
  },
  {
   "cell_type": "code",
   "execution_count": 24,
   "metadata": {
    "ExecuteTime": {
     "end_time": "2020-11-18T17:49:21.874766Z",
     "start_time": "2020-11-18T17:49:21.869778Z"
    }
   },
   "outputs": [
    {
     "data": {
      "text/plain": [
       "120"
      ]
     },
     "execution_count": 24,
     "metadata": {},
     "output_type": "execute_result"
    }
   ],
   "source": [
    "answer=add(100,20)\n",
    "answer"
   ]
  },
  {
   "cell_type": "code",
   "execution_count": 25,
   "metadata": {
    "ExecuteTime": {
     "end_time": "2020-11-18T17:52:45.081822Z",
     "start_time": "2020-11-18T17:52:45.078599Z"
    }
   },
   "outputs": [
    {
     "name": "stdout",
     "output_type": "stream",
     "text": [
      "Hello\n"
     ]
    }
   ],
   "source": [
    "## Watch out : print() doesn't store the value under the variable beging assigned to, it simply print the stuff on the screen.\n",
    "a=print('Hello')"
   ]
  },
  {
   "cell_type": "code",
   "execution_count": 27,
   "metadata": {
    "ExecuteTime": {
     "end_time": "2020-11-18T17:52:58.633581Z",
     "start_time": "2020-11-18T17:52:58.628736Z"
    }
   },
   "outputs": [
    {
     "data": {
      "text/plain": [
       "NoneType"
      ]
     },
     "execution_count": 27,
     "metadata": {},
     "output_type": "execute_result"
    }
   ],
   "source": [
    "type(a)"
   ]
  },
  {
   "cell_type": "code",
   "execution_count": 28,
   "metadata": {
    "ExecuteTime": {
     "end_time": "2020-11-18T17:54:45.526857Z",
     "start_time": "2020-11-18T17:54:45.510325Z"
    }
   },
   "outputs": [
    {
     "data": {
      "text/plain": [
       "'nep'"
      ]
     },
     "execution_count": 28,
     "metadata": {},
     "output_type": "execute_result"
    }
   ],
   "source": [
    "word='pen'\n",
    "word[::-1]"
   ]
  },
  {
   "cell_type": "code",
   "execution_count": 29,
   "metadata": {
    "ExecuteTime": {
     "end_time": "2020-11-18T17:55:35.944648Z",
     "start_time": "2020-11-18T17:55:35.941276Z"
    }
   },
   "outputs": [],
   "source": [
    "## build up a function to reverse a string or a list\n",
    "def rev(text):\n",
    "    return text[::-1]"
   ]
  },
  {
   "cell_type": "code",
   "execution_count": 30,
   "metadata": {
    "ExecuteTime": {
     "end_time": "2020-11-18T17:55:45.272006Z",
     "start_time": "2020-11-18T17:55:45.267027Z"
    }
   },
   "outputs": [
    {
     "data": {
      "text/plain": [
       "'nep'"
      ]
     },
     "execution_count": 30,
     "metadata": {},
     "output_type": "execute_result"
    }
   ],
   "source": [
    "rev('pen')"
   ]
  },
  {
   "cell_type": "code",
   "execution_count": 31,
   "metadata": {
    "ExecuteTime": {
     "end_time": "2020-11-18T17:55:59.669454Z",
     "start_time": "2020-11-18T17:55:59.664467Z"
    }
   },
   "outputs": [
    {
     "data": {
      "text/plain": [
       "[4, 3, 2, 1]"
      ]
     },
     "execution_count": 31,
     "metadata": {},
     "output_type": "execute_result"
    }
   ],
   "source": [
    "rev([1,2,3,4])"
   ]
  },
  {
   "cell_type": "markdown",
   "metadata": {},
   "source": [
    "### Variable scope in functions"
   ]
  },
  {
   "cell_type": "code",
   "execution_count": 35,
   "metadata": {
    "ExecuteTime": {
     "end_time": "2020-11-18T18:00:30.206117Z",
     "start_time": "2020-11-18T18:00:30.201113Z"
    }
   },
   "outputs": [],
   "source": [
    "a=100\n",
    "def f1():\n",
    "    print(a)\n",
    "def f2():\n",
    "    print(a)"
   ]
  },
  {
   "cell_type": "code",
   "execution_count": 36,
   "metadata": {
    "ExecuteTime": {
     "end_time": "2020-11-18T18:00:48.891012Z",
     "start_time": "2020-11-18T18:00:48.885980Z"
    }
   },
   "outputs": [
    {
     "name": "stdout",
     "output_type": "stream",
     "text": [
      "100\n"
     ]
    }
   ],
   "source": [
    "f1()"
   ]
  },
  {
   "cell_type": "code",
   "execution_count": 37,
   "metadata": {
    "ExecuteTime": {
     "end_time": "2020-11-18T18:00:52.790282Z",
     "start_time": "2020-11-18T18:00:52.784985Z"
    }
   },
   "outputs": [
    {
     "name": "stdout",
     "output_type": "stream",
     "text": [
      "100\n"
     ]
    }
   ],
   "source": [
    "f2()"
   ]
  },
  {
   "cell_type": "code",
   "execution_count": 48,
   "metadata": {
    "ExecuteTime": {
     "end_time": "2020-11-18T18:05:48.239436Z",
     "start_time": "2020-11-18T18:05:48.234805Z"
    }
   },
   "outputs": [],
   "source": [
    "##  different local scopes in each function which does not effect each other\n",
    "##  the global value of variable 'a' will not be overwritted by its local values inside the functions\n",
    "##  the local variable was destroyed after the usage of the function\n",
    "a=250 # global\n",
    "def f1():\n",
    "    a=100 #local\n",
    "    print(a)\n",
    "def f2():\n",
    "    a=50 #local\n",
    "    print(a)"
   ]
  },
  {
   "cell_type": "code",
   "execution_count": 50,
   "metadata": {
    "ExecuteTime": {
     "end_time": "2020-11-18T18:05:54.000287Z",
     "start_time": "2020-11-18T18:05:53.997034Z"
    }
   },
   "outputs": [
    {
     "name": "stdout",
     "output_type": "stream",
     "text": [
      "100\n"
     ]
    }
   ],
   "source": [
    "f1()"
   ]
  },
  {
   "cell_type": "code",
   "execution_count": 51,
   "metadata": {
    "ExecuteTime": {
     "end_time": "2020-11-18T18:06:12.429942Z",
     "start_time": "2020-11-18T18:06:12.425978Z"
    }
   },
   "outputs": [
    {
     "name": "stdout",
     "output_type": "stream",
     "text": [
      "250\n"
     ]
    }
   ],
   "source": [
    "print(a)"
   ]
  },
  {
   "cell_type": "code",
   "execution_count": 52,
   "metadata": {
    "ExecuteTime": {
     "end_time": "2020-11-18T18:15:43.859709Z",
     "start_time": "2020-11-18T18:15:43.855250Z"
    }
   },
   "outputs": [],
   "source": [
    "## overwrite the global value \n",
    "a=250\n",
    "def f1():\n",
    "    global a\n",
    "    a=100\n",
    "    print(a)\n",
    "def f2():\n",
    "    a=50\n",
    "    print(a)"
   ]
  },
  {
   "cell_type": "code",
   "execution_count": 53,
   "metadata": {
    "ExecuteTime": {
     "end_time": "2020-11-18T18:15:53.783802Z",
     "start_time": "2020-11-18T18:15:53.779450Z"
    }
   },
   "outputs": [
    {
     "name": "stdout",
     "output_type": "stream",
     "text": [
      "100\n"
     ]
    }
   ],
   "source": [
    "f1()"
   ]
  },
  {
   "cell_type": "code",
   "execution_count": 54,
   "metadata": {
    "ExecuteTime": {
     "end_time": "2020-11-18T18:15:58.301578Z",
     "start_time": "2020-11-18T18:15:58.296862Z"
    }
   },
   "outputs": [
    {
     "name": "stdout",
     "output_type": "stream",
     "text": [
      "50\n"
     ]
    }
   ],
   "source": [
    "f2()"
   ]
  },
  {
   "cell_type": "code",
   "execution_count": 55,
   "metadata": {
    "ExecuteTime": {
     "end_time": "2020-11-18T18:16:03.725292Z",
     "start_time": "2020-11-18T18:16:03.721819Z"
    }
   },
   "outputs": [
    {
     "name": "stdout",
     "output_type": "stream",
     "text": [
      "100\n"
     ]
    }
   ],
   "source": [
    "print(a)"
   ]
  },
  {
   "cell_type": "code",
   "execution_count": 56,
   "metadata": {
    "ExecuteTime": {
     "end_time": "2020-11-18T18:19:54.966497Z",
     "start_time": "2020-11-18T18:19:54.962417Z"
    }
   },
   "outputs": [],
   "source": [
    "## special case in overwriting a little priece of global value of the variable in the case of lists or dictionaries\n",
    "##--- without using global a \n",
    "a=[1,2,3]\n",
    "def f1():\n",
    "    a[0]=5\n",
    "    print(a)\n",
    "def f2():\n",
    "    a=50\n",
    "    print(a)"
   ]
  },
  {
   "cell_type": "code",
   "execution_count": 57,
   "metadata": {
    "ExecuteTime": {
     "end_time": "2020-11-18T18:20:00.079796Z",
     "start_time": "2020-11-18T18:20:00.076519Z"
    }
   },
   "outputs": [
    {
     "name": "stdout",
     "output_type": "stream",
     "text": [
      "[5, 2, 3]\n"
     ]
    }
   ],
   "source": [
    "f1()"
   ]
  },
  {
   "cell_type": "code",
   "execution_count": 58,
   "metadata": {
    "ExecuteTime": {
     "end_time": "2020-11-18T18:20:04.402677Z",
     "start_time": "2020-11-18T18:20:04.398748Z"
    }
   },
   "outputs": [
    {
     "name": "stdout",
     "output_type": "stream",
     "text": [
      "[5, 2, 3]\n"
     ]
    }
   ],
   "source": [
    "print(a)"
   ]
  },
  {
   "cell_type": "markdown",
   "metadata": {},
   "source": [
    "### Function Arguments and Parameters"
   ]
  },
  {
   "cell_type": "code",
   "execution_count": 63,
   "metadata": {
    "ExecuteTime": {
     "end_time": "2020-11-18T18:27:18.954442Z",
     "start_time": "2020-11-18T18:27:18.947523Z"
    }
   },
   "outputs": [],
   "source": [
    "def about(name,age,likes):\n",
    "    sentence ='Meet {}! They are {} years old and they like {}'.format(name,age,likes)\n",
    "    return sentence"
   ]
  },
  {
   "cell_type": "code",
   "execution_count": 64,
   "metadata": {
    "ExecuteTime": {
     "end_time": "2020-11-18T18:27:19.396282Z",
     "start_time": "2020-11-18T18:27:19.390258Z"
    }
   },
   "outputs": [
    {
     "data": {
      "text/plain": [
       "'Meet Jack! They are 23 years old and they like Python'"
      ]
     },
     "execution_count": 64,
     "metadata": {},
     "output_type": "execute_result"
    }
   ],
   "source": [
    "about('Jack',23,'Python')"
   ]
  },
  {
   "cell_type": "code",
   "execution_count": 65,
   "metadata": {
    "ExecuteTime": {
     "end_time": "2020-11-18T18:28:37.238937Z",
     "start_time": "2020-11-18T18:28:37.232344Z"
    }
   },
   "outputs": [
    {
     "data": {
      "text/plain": [
       "'Meet Jack! They are 23 years old and they like Python'"
      ]
     },
     "execution_count": 65,
     "metadata": {},
     "output_type": "execute_result"
    }
   ],
   "source": [
    "about(age=23,name='Jack',likes='Python')"
   ]
  },
  {
   "cell_type": "code",
   "execution_count": 66,
   "metadata": {
    "ExecuteTime": {
     "end_time": "2020-11-18T18:34:22.874501Z",
     "start_time": "2020-11-18T18:34:22.868871Z"
    }
   },
   "outputs": [],
   "source": [
    "## set default parameter\n",
    "def about(name,age,likes='Python'):\n",
    "    sentence ='Meet {}! They are {} years old and they like {}'.format(name,age,likes)\n",
    "    return sentence"
   ]
  },
  {
   "cell_type": "code",
   "execution_count": 67,
   "metadata": {
    "ExecuteTime": {
     "end_time": "2020-11-18T18:34:34.758940Z",
     "start_time": "2020-11-18T18:34:34.753987Z"
    }
   },
   "outputs": [
    {
     "data": {
      "text/plain": [
       "'Meet Jack! They are 23 years old and they like Python'"
      ]
     },
     "execution_count": 67,
     "metadata": {},
     "output_type": "execute_result"
    }
   ],
   "source": [
    "about('Jack',23)"
   ]
  },
  {
   "cell_type": "code",
   "execution_count": 68,
   "metadata": {
    "ExecuteTime": {
     "end_time": "2020-11-18T18:35:27.248986Z",
     "start_time": "2020-11-18T18:35:27.229651Z"
    }
   },
   "outputs": [
    {
     "data": {
      "text/plain": [
       "'Meet Jack! They are 23 years old and they like football'"
      ]
     },
     "execution_count": 68,
     "metadata": {},
     "output_type": "execute_result"
    }
   ],
   "source": [
    "## overwrite the default parameter \n",
    "## always put the default parameters after the non-default parameters\n",
    "about('Jack',23,likes='football')"
   ]
  },
  {
   "cell_type": "code",
   "execution_count": 69,
   "metadata": {
    "ExecuteTime": {
     "end_time": "2020-11-18T18:38:28.713198Z",
     "start_time": "2020-11-18T18:38:28.708009Z"
    }
   },
   "outputs": [
    {
     "data": {
      "text/plain": [
       "'Meet Jack! They are 23 years old and they like football'"
      ]
     },
     "execution_count": 69,
     "metadata": {},
     "output_type": "execute_result"
    }
   ],
   "source": [
    "## or just simply\n",
    "about('Jack',23,'football')"
   ]
  },
  {
   "cell_type": "markdown",
   "metadata": {},
   "source": [
    "### Packing and Unpacking arguments"
   ]
  },
  {
   "cell_type": "code",
   "execution_count": 70,
   "metadata": {
    "ExecuteTime": {
     "end_time": "2020-11-18T18:44:24.671631Z",
     "start_time": "2020-11-18T18:44:24.661118Z"
    }
   },
   "outputs": [
    {
     "name": "stdout",
     "output_type": "stream",
     "text": [
      "1 2 3 4 5\n"
     ]
    }
   ],
   "source": [
    "### DEFINITION of Unpacking arguments:\n",
    "## Take an item from an iterable data type like lists , strings,dictionaries \n",
    "## and each of those items become its own argument to the function\n",
    "## Unpacking the list\n",
    "numbers=[1,2,3,4,5]\n",
    "print(*numbers)"
   ]
  },
  {
   "cell_type": "code",
   "execution_count": 71,
   "metadata": {
    "ExecuteTime": {
     "end_time": "2020-11-18T18:49:38.340454Z",
     "start_time": "2020-11-18T18:49:38.331001Z"
    }
   },
   "outputs": [
    {
     "name": "stdout",
     "output_type": "stream",
     "text": [
      "abc\n"
     ]
    }
   ],
   "source": [
    "print('abc')"
   ]
  },
  {
   "cell_type": "code",
   "execution_count": 72,
   "metadata": {
    "ExecuteTime": {
     "end_time": "2020-11-18T18:49:57.961807Z",
     "start_time": "2020-11-18T18:49:57.953827Z"
    }
   },
   "outputs": [
    {
     "name": "stdout",
     "output_type": "stream",
     "text": [
      "a b c\n"
     ]
    }
   ],
   "source": [
    "print(*'abc')\n",
    "## which works the same as print('a','b','c')"
   ]
  },
  {
   "cell_type": "code",
   "execution_count": 73,
   "metadata": {
    "ExecuteTime": {
     "end_time": "2020-11-18T18:52:07.009413Z",
     "start_time": "2020-11-18T18:52:06.998442Z"
    }
   },
   "outputs": [
    {
     "data": {
      "text/plain": [
       "20"
      ]
     },
     "execution_count": 73,
     "metadata": {},
     "output_type": "execute_result"
    }
   ],
   "source": [
    "### Packing arguments\n",
    "def add(x,y):\n",
    "    return x+y\n",
    "add(10,10)"
   ]
  },
  {
   "cell_type": "code",
   "execution_count": 76,
   "metadata": {
    "ExecuteTime": {
     "end_time": "2020-11-18T18:53:33.327870Z",
     "start_time": "2020-11-18T18:53:33.320018Z"
    }
   },
   "outputs": [],
   "source": [
    "def add(*numbers):\n",
    "    total=0\n",
    "    for number in numbers:\n",
    "        total=total+number\n",
    "    return total"
   ]
  },
  {
   "cell_type": "code",
   "execution_count": 77,
   "metadata": {
    "ExecuteTime": {
     "end_time": "2020-11-18T18:53:34.162543Z",
     "start_time": "2020-11-18T18:53:34.152715Z"
    }
   },
   "outputs": [
    {
     "data": {
      "text/plain": [
       "45"
      ]
     },
     "execution_count": 77,
     "metadata": {},
     "output_type": "execute_result"
    }
   ],
   "source": [
    "add(1,2,3,4,5,6,7,8,9) ## here , numbers=(1,2,3,4,5,6,7,8,9) is a tuple"
   ]
  },
  {
   "cell_type": "code",
   "execution_count": 80,
   "metadata": {
    "ExecuteTime": {
     "end_time": "2020-11-18T18:58:13.466605Z",
     "start_time": "2020-11-18T18:58:13.453128Z"
    }
   },
   "outputs": [
    {
     "data": {
      "text/plain": [
       "'Meet Ziyad! They are 23 years old and they like Python'"
      ]
     },
     "execution_count": 80,
     "metadata": {},
     "output_type": "execute_result"
    }
   ],
   "source": [
    "### Unpacking dictionaries\n",
    "def about(name,age,likes):\n",
    "    sentence ='Meet {}! They are {} years old and they like {}'.format(name,age,likes)\n",
    "    return sentence\n",
    "dictionary={'name':'Ziyad','age':23,'likes':'Python'}\n",
    "about(**dictionary)"
   ]
  },
  {
   "cell_type": "code",
   "execution_count": 85,
   "metadata": {
    "ExecuteTime": {
     "end_time": "2020-11-18T19:01:55.179406Z",
     "start_time": "2020-11-18T19:01:55.171070Z"
    }
   },
   "outputs": [],
   "source": [
    "### keyword aruguments\n",
    "def foo(**kwargs):\n",
    "    for key,value in kwargs.items():\n",
    "        print('{}:{}'.format(key,value))"
   ]
  },
  {
   "cell_type": "code",
   "execution_count": 86,
   "metadata": {
    "ExecuteTime": {
     "end_time": "2020-11-18T19:01:56.037131Z",
     "start_time": "2020-11-18T19:01:56.030873Z"
    }
   },
   "outputs": [
    {
     "name": "stdout",
     "output_type": "stream",
     "text": [
      "huda:Female\n",
      "ziyad:male\n"
     ]
    }
   ],
   "source": [
    "foo(huda='Female',ziyad='male')"
   ]
  },
  {
   "cell_type": "code",
   "execution_count": 87,
   "metadata": {
    "ExecuteTime": {
     "end_time": "2020-11-18T19:02:46.240713Z",
     "start_time": "2020-11-18T19:02:46.234573Z"
    }
   },
   "outputs": [
    {
     "name": "stdout",
     "output_type": "stream",
     "text": [
      "huda:Female\n",
      "ziyad:male\n",
      "john:male\n"
     ]
    }
   ],
   "source": [
    "foo(huda='Female',ziyad='male',john='male')"
   ]
  },
  {
   "cell_type": "markdown",
   "metadata": {},
   "source": [
    "### Project 4: The Tic Tac Toe game"
   ]
  },
  {
   "cell_type": "code",
   "execution_count": 150,
   "metadata": {
    "ExecuteTime": {
     "end_time": "2020-11-19T16:07:32.388228Z",
     "start_time": "2020-11-19T16:07:32.383239Z"
    }
   },
   "outputs": [
    {
     "name": "stdout",
     "output_type": "stream",
     "text": [
      "[' ', ' ', ' ', ' ', ' ', ' ', ' ', ' ', ' ']\n"
     ]
    }
   ],
   "source": [
    "board=[' 'for i in range(9)]\n",
    "print(board)"
   ]
  },
  {
   "cell_type": "code",
   "execution_count": 151,
   "metadata": {
    "ExecuteTime": {
     "end_time": "2020-11-19T16:07:32.852982Z",
     "start_time": "2020-11-19T16:07:32.847024Z"
    }
   },
   "outputs": [],
   "source": [
    "def print_board():\n",
    "    row1='|{}|{}|{}|'.format(board[0],board[1],board[2])\n",
    "    row2='|{}|{}|{}|'.format(board[3],board[4],board[5])\n",
    "    row3='|{}|{}|{}|'.format(board[6],board[7],board[8])\n",
    "    print()\n",
    "    print(row1)\n",
    "    print(row2)\n",
    "    print(row3)\n",
    "    print()"
   ]
  },
  {
   "cell_type": "code",
   "execution_count": 152,
   "metadata": {
    "ExecuteTime": {
     "end_time": "2020-11-19T16:07:33.383293Z",
     "start_time": "2020-11-19T16:07:33.377593Z"
    }
   },
   "outputs": [],
   "source": [
    "def player_move(icon):\n",
    "    ##print('Your turn player {}'.format(icon))\n",
    "    if icon=='X':\n",
    "        number=1\n",
    "    elif icon=='O':\n",
    "        number=2\n",
    "    print('Your turn player{}'.format(number))\n",
    "    \n",
    "    choice=int(input('Enter your move (1-9):').strip())\n",
    "    if board[choice-1]== ' ':\n",
    "        board[choice-1]=icon\n",
    "    else:\n",
    "        print()\n",
    "        print('That space is taken!')"
   ]
  },
  {
   "cell_type": "code",
   "execution_count": 153,
   "metadata": {
    "ExecuteTime": {
     "end_time": "2020-11-19T16:07:33.876317Z",
     "start_time": "2020-11-19T16:07:33.867458Z"
    }
   },
   "outputs": [],
   "source": [
    "def is_victory(icon):\n",
    "    if(board[0]==icon and board[1]==icon and board[2]==icon)or\\\n",
    "      (board[3]==icon and board[4]==icon and board[5]==icon)or\\\n",
    "      (board[6]==icon and board[7]==icon and board[8]==icon)or\\\n",
    "      (board[0]==icon and board[3]==icon and board[6]==icon)or\\\n",
    "      (board[1]==icon and board[4]==icon and board[7]==icon)or\\\n",
    "      (board[2]==icon and board[5]==icon and board[8]==icon)or\\\n",
    "      (board[0]==icon and board[4]==icon and board[8]==icon)or\\\n",
    "      (board[2]==icon and board[4]==icon and board[6]==icon):\n",
    "        return True\n",
    "    else:\n",
    "        return False"
   ]
  },
  {
   "cell_type": "code",
   "execution_count": 154,
   "metadata": {
    "ExecuteTime": {
     "end_time": "2020-11-19T16:07:34.317537Z",
     "start_time": "2020-11-19T16:07:34.311554Z"
    }
   },
   "outputs": [],
   "source": [
    "def is_draw():\n",
    "    if ' 'not in board:\n",
    "        return True\n",
    "    else:\n",
    "        return False"
   ]
  },
  {
   "cell_type": "code",
   "execution_count": 155,
   "metadata": {
    "ExecuteTime": {
     "end_time": "2020-11-19T16:08:27.759797Z",
     "start_time": "2020-11-19T16:07:34.804933Z"
    }
   },
   "outputs": [
    {
     "name": "stdout",
     "output_type": "stream",
     "text": [
      "\n",
      "| | | |\n",
      "| | | |\n",
      "| | | |\n",
      "\n",
      "Your turn player1\n",
      "Enter your move (1-9):1\n",
      "\n",
      "|X| | |\n",
      "| | | |\n",
      "| | | |\n",
      "\n",
      "Your turn player2\n",
      "Enter your move (1-9):5\n",
      "\n",
      "|X| | |\n",
      "| |O| |\n",
      "| | | |\n",
      "\n",
      "Your turn player1\n",
      "Enter your move (1-9):9\n",
      "\n",
      "|X| | |\n",
      "| |O| |\n",
      "| | |X|\n",
      "\n",
      "Your turn player2\n",
      "Enter your move (1-9):2\n",
      "\n",
      "|X|O| |\n",
      "| |O| |\n",
      "| | |X|\n",
      "\n",
      "Your turn player1\n",
      "Enter your move (1-9):8\n",
      "\n",
      "|X|O| |\n",
      "| |O| |\n",
      "| |X|X|\n",
      "\n",
      "Your turn player2\n",
      "Enter your move (1-9):7\n",
      "\n",
      "|X|O| |\n",
      "| |O| |\n",
      "|O|X|X|\n",
      "\n",
      "Your turn player1\n",
      "Enter your move (1-9):3\n",
      "\n",
      "|X|O|X|\n",
      "| |O| |\n",
      "|O|X|X|\n",
      "\n",
      "Your turn player2\n",
      "Enter your move (1-9):6\n",
      "\n",
      "|X|O|X|\n",
      "| |O|O|\n",
      "|O|X|X|\n",
      "\n",
      "Your turn player1\n",
      "Enter your move (1-9):4\n",
      "\n",
      "|X|O|X|\n",
      "|X|O|O|\n",
      "|O|X|X|\n",
      "\n",
      "Its a draw !\n"
     ]
    }
   ],
   "source": [
    "while True:\n",
    "    print_board()\n",
    "    player_move('X')\n",
    "    print_board()\n",
    "    if is_victory('X'):\n",
    "        print('X Wins ! Congratulations!')\n",
    "        break\n",
    "    elif is_draw():\n",
    "        print('Its a draw !')\n",
    "        break\n",
    "    player_move('O')\n",
    "    if is_victory('O'):\n",
    "        print('X Wins ! Congratulations!')\n",
    "        break\n",
    "    elif is_draw():\n",
    "        print('Its a draw!')\n",
    "        break\n",
    "    "
   ]
  },
  {
   "cell_type": "markdown",
   "metadata": {
    "ExecuteTime": {
     "end_time": "2020-11-18T19:18:00.033330Z",
     "start_time": "2020-11-18T19:18:00.013383Z"
    }
   },
   "source": [
    "## Classes"
   ]
  },
  {
   "cell_type": "code",
   "execution_count": null,
   "metadata": {},
   "outputs": [],
   "source": [
    "### what is a class?\n",
    "## class is a template and when you make the instances of that class you will get the objects\n",
    "## class consists of states and methods(functions)"
   ]
  },
  {
   "cell_type": "markdown",
   "metadata": {},
   "source": [
    "### make your own coin (class)"
   ]
  },
  {
   "cell_type": "code",
   "execution_count": 159,
   "metadata": {
    "ExecuteTime": {
     "end_time": "2020-11-19T16:43:58.749113Z",
     "start_time": "2020-11-19T16:43:58.738624Z"
    }
   },
   "outputs": [
    {
     "data": {
      "text/plain": [
       "'gold'"
      ]
     },
     "execution_count": 159,
     "metadata": {},
     "output_type": "execute_result"
    }
   ],
   "source": [
    "## Create class states\n",
    "class Pound:\n",
    "    \n",
    "    value=1.00\n",
    "    colour='gold'\n",
    "    num_edges=1\n",
    "    diameter=22.5\n",
    "    thickness=3.15\n",
    "    heads=True\n",
    "coin1=Pound()"
   ]
  },
  {
   "cell_type": "code",
   "execution_count": 157,
   "metadata": {
    "ExecuteTime": {
     "end_time": "2020-11-19T16:43:23.668665Z",
     "start_time": "2020-11-19T16:43:23.665769Z"
    }
   },
   "outputs": [
    {
     "name": "stdout",
     "output_type": "stream",
     "text": [
      "<class 'type'>\n"
     ]
    }
   ],
   "source": [
    "print(type(Pound))"
   ]
  },
  {
   "cell_type": "code",
   "execution_count": 160,
   "metadata": {
    "ExecuteTime": {
     "end_time": "2020-11-19T16:44:44.572399Z",
     "start_time": "2020-11-19T16:44:44.555619Z"
    }
   },
   "outputs": [
    {
     "data": {
      "text/plain": [
       "'greenish'"
      ]
     },
     "execution_count": 160,
     "metadata": {},
     "output_type": "execute_result"
    }
   ],
   "source": [
    "## change the state of the object:colour\n",
    "coin1.colour='greenish'\n",
    "coin1.colour"
   ]
  },
  {
   "cell_type": "code",
   "execution_count": 161,
   "metadata": {
    "ExecuteTime": {
     "end_time": "2020-11-19T16:44:53.062598Z",
     "start_time": "2020-11-19T16:44:53.056352Z"
    }
   },
   "outputs": [],
   "source": [
    "coin2=Pound()"
   ]
  },
  {
   "cell_type": "code",
   "execution_count": 162,
   "metadata": {
    "ExecuteTime": {
     "end_time": "2020-11-19T16:45:10.848346Z",
     "start_time": "2020-11-19T16:45:10.841321Z"
    }
   },
   "outputs": [
    {
     "name": "stdout",
     "output_type": "stream",
     "text": [
      "gold\n"
     ]
    }
   ],
   "source": [
    "print(coin2.colour)"
   ]
  },
  {
   "cell_type": "code",
   "execution_count": 163,
   "metadata": {
    "ExecuteTime": {
     "end_time": "2020-11-19T16:45:40.235390Z",
     "start_time": "2020-11-19T16:45:40.230401Z"
    }
   },
   "outputs": [
    {
     "data": {
      "text/plain": [
       "1.25"
      ]
     },
     "execution_count": 163,
     "metadata": {},
     "output_type": "execute_result"
    }
   ],
   "source": [
    "## change the state of the object: value\n",
    "coin1.value=1.25\n",
    "coin1.value"
   ]
  },
  {
   "cell_type": "code",
   "execution_count": 164,
   "metadata": {
    "ExecuteTime": {
     "end_time": "2020-11-19T16:45:46.491776Z",
     "start_time": "2020-11-19T16:45:46.482804Z"
    }
   },
   "outputs": [
    {
     "data": {
      "text/plain": [
       "1.0"
      ]
     },
     "execution_count": 164,
     "metadata": {},
     "output_type": "execute_result"
    }
   ],
   "source": [
    "coin2.value"
   ]
  },
  {
   "cell_type": "code",
   "execution_count": 209,
   "metadata": {
    "ExecuteTime": {
     "end_time": "2020-11-19T17:05:57.630263Z",
     "start_time": "2020-11-19T17:05:57.618524Z"
    }
   },
   "outputs": [],
   "source": [
    "## self is a specific instance of  this class when we write the class code\n",
    "## self will be replaced by coin1, coin2, ... as we write in\n",
    "import random\n",
    "class Pound:\n",
    "    ## define a constructor method\n",
    "    def __init__(self,rare=False):\n",
    "        self.rare=rare\n",
    "        if self.rare:\n",
    "            self.value=1.25\n",
    "        else:\n",
    "            self.value=1.00\n",
    "        self.colour='gold'\n",
    "        self.num_edges=1\n",
    "        self.diameter=22.5\n",
    "        self.thickness=3.15\n",
    "        self.heads=True\n",
    "    ## define a destructor method\n",
    "    def __del__(self):\n",
    "        print('Coin Spent!')\n",
    "        \n",
    "    def rust(self):\n",
    "        self.colour='greenish'\n",
    "        \n",
    "    def clean(self):\n",
    "        self.colour='gold'\n",
    "        \n",
    "    def flip(self):\n",
    "        heads_options=[True,False]\n",
    "        choice=random.choice(heads_options)\n",
    "        self.heads=choice\n",
    "    "
   ]
  },
  {
   "cell_type": "code",
   "execution_count": 210,
   "metadata": {
    "ExecuteTime": {
     "end_time": "2020-11-19T17:05:58.316158Z",
     "start_time": "2020-11-19T17:05:58.310074Z"
    }
   },
   "outputs": [],
   "source": [
    "coin1=Pound(rare=True)"
   ]
  },
  {
   "cell_type": "code",
   "execution_count": 211,
   "metadata": {
    "ExecuteTime": {
     "end_time": "2020-11-19T17:05:58.851280Z",
     "start_time": "2020-11-19T17:05:58.846233Z"
    }
   },
   "outputs": [],
   "source": [
    "coin2=Pound()"
   ]
  },
  {
   "cell_type": "code",
   "execution_count": 212,
   "metadata": {
    "ExecuteTime": {
     "end_time": "2020-11-19T17:05:59.312664Z",
     "start_time": "2020-11-19T17:05:59.306808Z"
    }
   },
   "outputs": [
    {
     "data": {
      "text/plain": [
       "'gold'"
      ]
     },
     "execution_count": 212,
     "metadata": {},
     "output_type": "execute_result"
    }
   ],
   "source": [
    "coin1.colour"
   ]
  },
  {
   "cell_type": "code",
   "execution_count": 213,
   "metadata": {
    "ExecuteTime": {
     "end_time": "2020-11-19T17:05:59.762189Z",
     "start_time": "2020-11-19T17:05:59.758156Z"
    }
   },
   "outputs": [
    {
     "data": {
      "text/plain": [
       "'gold'"
      ]
     },
     "execution_count": 213,
     "metadata": {},
     "output_type": "execute_result"
    }
   ],
   "source": [
    "coin2.colour"
   ]
  },
  {
   "cell_type": "code",
   "execution_count": 214,
   "metadata": {
    "ExecuteTime": {
     "end_time": "2020-11-19T17:06:00.161351Z",
     "start_time": "2020-11-19T17:06:00.155789Z"
    }
   },
   "outputs": [
    {
     "data": {
      "text/plain": [
       "'greenish'"
      ]
     },
     "execution_count": 214,
     "metadata": {},
     "output_type": "execute_result"
    }
   ],
   "source": [
    "coin1.rust()\n",
    "coin1.colour"
   ]
  },
  {
   "cell_type": "code",
   "execution_count": 215,
   "metadata": {
    "ExecuteTime": {
     "end_time": "2020-11-19T17:06:00.594080Z",
     "start_time": "2020-11-19T17:06:00.588197Z"
    }
   },
   "outputs": [
    {
     "data": {
      "text/plain": [
       "'gold'"
      ]
     },
     "execution_count": 215,
     "metadata": {},
     "output_type": "execute_result"
    }
   ],
   "source": [
    "coin1.clean()\n",
    "coin1.colour"
   ]
  },
  {
   "cell_type": "code",
   "execution_count": 216,
   "metadata": {
    "ExecuteTime": {
     "end_time": "2020-11-19T17:06:01.078734Z",
     "start_time": "2020-11-19T17:06:01.072334Z"
    }
   },
   "outputs": [
    {
     "data": {
      "text/plain": [
       "True"
      ]
     },
     "execution_count": 216,
     "metadata": {},
     "output_type": "execute_result"
    }
   ],
   "source": [
    "coin1.heads"
   ]
  },
  {
   "cell_type": "code",
   "execution_count": 217,
   "metadata": {
    "ExecuteTime": {
     "end_time": "2020-11-19T17:06:02.019829Z",
     "start_time": "2020-11-19T17:06:02.012849Z"
    }
   },
   "outputs": [],
   "source": [
    "coin1.flip()"
   ]
  },
  {
   "cell_type": "code",
   "execution_count": 220,
   "metadata": {
    "ExecuteTime": {
     "end_time": "2020-11-19T17:06:24.662394Z",
     "start_time": "2020-11-19T17:06:24.653832Z"
    }
   },
   "outputs": [
    {
     "data": {
      "text/plain": [
       "False"
      ]
     },
     "execution_count": 220,
     "metadata": {},
     "output_type": "execute_result"
    }
   ],
   "source": [
    "coin1.heads"
   ]
  },
  {
   "cell_type": "code",
   "execution_count": 221,
   "metadata": {
    "ExecuteTime": {
     "end_time": "2020-11-19T17:11:02.093763Z",
     "start_time": "2020-11-19T17:11:02.089047Z"
    }
   },
   "outputs": [],
   "source": [
    "## delete the object by running the destructor method\n",
    "del coin1"
   ]
  },
  {
   "cell_type": "code",
   "execution_count": 222,
   "metadata": {
    "ExecuteTime": {
     "end_time": "2020-11-19T17:11:05.610094Z",
     "start_time": "2020-11-19T17:11:05.600503Z"
    }
   },
   "outputs": [
    {
     "ename": "NameError",
     "evalue": "name 'coin1' is not defined",
     "output_type": "error",
     "traceback": [
      "\u001b[1;31m---------------------------------------------------------------------------\u001b[0m",
      "\u001b[1;31mNameError\u001b[0m                                 Traceback (most recent call last)",
      "\u001b[1;32m<ipython-input-222-b9a85e12f765>\u001b[0m in \u001b[0;36m<module>\u001b[1;34m\u001b[0m\n\u001b[1;32m----> 1\u001b[1;33m \u001b[0mcoin1\u001b[0m\u001b[1;33m\u001b[0m\u001b[1;33m\u001b[0m\u001b[0m\n\u001b[0m",
      "\u001b[1;31mNameError\u001b[0m: name 'coin1' is not defined"
     ]
    }
   ],
   "source": [
    "coin1"
   ]
  },
  {
   "cell_type": "code",
   "execution_count": 223,
   "metadata": {
    "ExecuteTime": {
     "end_time": "2020-11-19T17:11:13.118166Z",
     "start_time": "2020-11-19T17:11:13.111122Z"
    }
   },
   "outputs": [
    {
     "data": {
      "text/plain": [
       "<__main__.Pound at 0x1b8db6abe80>"
      ]
     },
     "execution_count": 223,
     "metadata": {},
     "output_type": "execute_result"
    }
   ],
   "source": [
    "coin2"
   ]
  },
  {
   "cell_type": "markdown",
   "metadata": {},
   "source": [
    "### make all the coins"
   ]
  },
  {
   "cell_type": "code",
   "execution_count": 254,
   "metadata": {
    "ExecuteTime": {
     "end_time": "2020-11-19T18:37:37.564569Z",
     "start_time": "2020-11-19T18:37:37.551538Z"
    }
   },
   "outputs": [],
   "source": [
    "### One Pound Coin\n",
    "import random\n",
    "## parent class\n",
    "class Coin:\n",
    "    def __init__(self,rare=False,clean=True,heads=True,**kwargs):\n",
    "        \n",
    "        for key,value in kwargs.items():\n",
    "            setattr(self,key,value)\n",
    "        \n",
    "        self.heads=heads\n",
    "        self.is_rare=rare\n",
    "        self.is_clean=clean\n",
    "        if self.is_rare:\n",
    "            self.value=self.original_value*1.25\n",
    "        else:\n",
    "            self.value=self.original_value\n",
    "        if self.is_clean:\n",
    "            self.colour=self.clean_colour\n",
    "        else:\n",
    "            self.colour=self.rusty_colour\n",
    "    def rust(self):\n",
    "        self.colour=self.rusty_colour\n",
    "    def clean(self):\n",
    "        self.colour=self.clean_colour\n",
    "    def __del__(self):\n",
    "        print('Coin Spent!')\n",
    "    def flip(self):\n",
    "        heads_options=[True,False]\n",
    "        choice=random.choice(heads_options)\n",
    "        self.heads=choice\n",
    "## children class == pass all add  data into parent class to set up the rest\n",
    "class Pound(Coin):\n",
    "    ## define a constructor method\n",
    "    def __init__(self):\n",
    "        \n",
    "        data={\n",
    "            'original_value':1.00,\n",
    "            'clean_colour':'gold',\n",
    "            'rusty_colour':'greenish',\n",
    "            'num_edges':1,\n",
    "            'diameter':22.5,\n",
    "            'thickness':3.15,\n",
    "            'mass':9.5\n",
    "        }\n",
    "        super().__init__(**data)"
   ]
  },
  {
   "cell_type": "code",
   "execution_count": 255,
   "metadata": {
    "ExecuteTime": {
     "end_time": "2020-11-19T18:37:38.956565Z",
     "start_time": "2020-11-19T18:37:38.952608Z"
    }
   },
   "outputs": [
    {
     "name": "stdout",
     "output_type": "stream",
     "text": [
      "Coin Spent!\n"
     ]
    }
   ],
   "source": [
    "one_pound_coin=Pound()"
   ]
  },
  {
   "cell_type": "code",
   "execution_count": 256,
   "metadata": {
    "ExecuteTime": {
     "end_time": "2020-11-19T18:37:39.806246Z",
     "start_time": "2020-11-19T18:37:39.798191Z"
    }
   },
   "outputs": [
    {
     "data": {
      "text/plain": [
       "1.0"
      ]
     },
     "execution_count": 256,
     "metadata": {},
     "output_type": "execute_result"
    }
   ],
   "source": [
    "one_pound_coin.value"
   ]
  },
  {
   "cell_type": "code",
   "execution_count": 249,
   "metadata": {
    "ExecuteTime": {
     "end_time": "2020-11-19T17:59:42.974124Z",
     "start_time": "2020-11-19T17:59:42.966095Z"
    }
   },
   "outputs": [
    {
     "data": {
      "text/plain": [
       "'greenish'"
      ]
     },
     "execution_count": 249,
     "metadata": {},
     "output_type": "execute_result"
    }
   ],
   "source": [
    "one_pound_coin.rust()\n",
    "one_pound_coin.colour"
   ]
  },
  {
   "cell_type": "code",
   "execution_count": 263,
   "metadata": {
    "ExecuteTime": {
     "end_time": "2020-11-19T18:46:21.023361Z",
     "start_time": "2020-11-19T18:46:20.976149Z"
    }
   },
   "outputs": [
    {
     "name": "stdout",
     "output_type": "stream",
     "text": [
      "Coin Spent!\n",
      "Coin Spent!\n",
      "Coin Spent!\n",
      "Coin Spent!\n",
      "Coin Spent!\n",
      "Coin Spent!\n",
      "Coin Spent!\n",
      "Coin Spent!\n",
      "1p Coin- Colour:bronze,value:0.01,diameter(mm):20.3,thickness:1.52,number of edges:1,mass(g):3.56\n",
      "2p Coin- Colour:bronze,value:0.02,diameter(mm):25.9,thickness:1.85,number of edges:1,mass(g):7.12\n",
      "5p Coin- Colour:silver,value:0.05,diameter(mm):18.0,thickness:1.77,number of edges:1,mass(g):3.25\n",
      "5p Coin- Colour:silver,value:0.05,diameter(mm):18.0,thickness:1.77,number of edges:1,mass(g):3.25\n",
      "10p Coin- Colour:silver,value:0.1,diameter(mm):24.5,thickness:1.85,number of edges:1,mass(g):6.5\n",
      "50p Coin- Colour:silver,value:0.5,diameter(mm):27.3,thickness:1.78,number of edges:7,mass(g):8.0\n",
      "$1 Coin- Colour:gold,value:1.0,diameter(mm):22.5,thickness:3.15,number of edges:1,mass(g):9.5\n",
      "$2 Coin- Colour:gold&silver,value:2.0,diameter(mm):28.4,thickness:2.5,number of edges:1,mass(g):12.0\n"
     ]
    }
   ],
   "source": [
    "### One Pence Coin\n",
    "import random\n",
    "## parent class\n",
    "class Coin:\n",
    "    def __init__(self,rare=False,clean=True,heads=True,**kwargs):\n",
    "        \n",
    "        for key,value in kwargs.items():\n",
    "            setattr(self,key,value)\n",
    "        \n",
    "        self.heads=heads\n",
    "        self.is_rare=rare\n",
    "        self.is_clean=clean\n",
    "        if self.is_rare:\n",
    "            self.value=self.original_value*1.25\n",
    "        else:\n",
    "            self.value=self.original_value\n",
    "        if self.is_clean:\n",
    "            self.colour=self.clean_colour\n",
    "        else:\n",
    "            self.colour=self.rusty_colour\n",
    "    def rust(self):\n",
    "        self.colour=self.rusty_colour\n",
    "    def clean(self):\n",
    "        self.colour=self.clean_colour\n",
    "    def __del__(self):\n",
    "        print('Coin Spent!')\n",
    "    def flip(self):\n",
    "        heads_options=[True,False]\n",
    "        choice=random.choice(heads_options)\n",
    "        self.heads=choice\n",
    "    def __str__(self):\n",
    "        if self.original_value>=1.00:\n",
    "            return \"${} Coin\".format(int(self.original_value))\n",
    "        else:\n",
    "            return \"{}p Coin\".format(int(self.original_value*100))\n",
    "## children class == pass all add  data into parent class to set up the rest\n",
    "class One_Pence(Coin):\n",
    "    ## define a constructor method\n",
    "    def __init__(self):\n",
    "        \n",
    "        data={\n",
    "            'original_value':0.01,\n",
    "            'clean_colour':'bronze',\n",
    "            'rusty_colour':'brwonish',\n",
    "            'num_edges':1,\n",
    "            'diameter':20.3,\n",
    "            'thickness':1.52,\n",
    "            'mass':3.56\n",
    "        }\n",
    "        super().__init__(**data)\n",
    "\n",
    "class Two_Pence(Coin):\n",
    "    ## define a constructor method\n",
    "    def __init__(self):\n",
    "        \n",
    "        data={\n",
    "            'original_value':0.02,\n",
    "            'clean_colour':'bronze',\n",
    "            'rusty_colour':'brwonish',\n",
    "            'num_edges':1,\n",
    "            'diameter':25.9,\n",
    "            'thickness':1.85,\n",
    "            'mass':7.12\n",
    "        }\n",
    "        super().__init__(**data)\n",
    "\n",
    "class Five_Pence(Coin):\n",
    "    ## define a constructor method\n",
    "    def __init__(self):\n",
    "        \n",
    "        data={\n",
    "            'original_value':0.05,\n",
    "            'clean_colour':'silver',\n",
    "            'rusty_colour':None,\n",
    "            'num_edges':1,\n",
    "            'diameter':18.0,\n",
    "            'thickness':1.77,\n",
    "            'mass':3.25\n",
    "        }\n",
    "        super().__init__(**data)\n",
    "        #3 define polymorphism -- a new version for the five pence coin\n",
    "    def rust(self):\n",
    "            self.colour=self.clean_colour\n",
    "    def clean(self):\n",
    "            self.colour=self.clean_colour\n",
    "class Ten_Pence(Coin):\n",
    "    ## define a constructor method\n",
    "    def __init__(self):\n",
    "        \n",
    "        data={\n",
    "            'original_value':0.05,\n",
    "            'clean_colour':'silver',\n",
    "            'rusty_colour':None,\n",
    "            'num_edges':1,\n",
    "            'diameter':18.0,\n",
    "            'thickness':1.77,\n",
    "            'mass':3.25\n",
    "        }\n",
    "        super().__init__(**data)\n",
    "        ## define polymorphism -- a new version for the ten pence coin\n",
    "    def rust(self):\n",
    "            self.colour=self.clean_colour\n",
    "    def clean(self):\n",
    "            self.colour=self.clean_colour   \n",
    "class Twenty_Pence(Coin):\n",
    "    ## define a constructor method\n",
    "    def __init__(self):\n",
    "        \n",
    "        data={\n",
    "            'original_value':0.10,\n",
    "            'clean_colour':'silver',\n",
    "            'rusty_colour':None,\n",
    "            'num_edges':1,\n",
    "            'diameter':24.5,\n",
    "            'thickness':1.85,\n",
    "            'mass':6.50\n",
    "        }\n",
    "        super().__init__(**data)\n",
    "        ## define polymorphism -- a new version for the twenty pence coin\n",
    "    def rust(self):\n",
    "            self.colour=self.clean_colour\n",
    "    def clean(self):\n",
    "            self.colour=self.clean_colour\n",
    "class Fifty_Pence(Coin):\n",
    "    ## define a constructor method\n",
    "    def __init__(self):\n",
    "        \n",
    "        data={\n",
    "            'original_value':0.50,\n",
    "            'clean_colour':'silver',\n",
    "            'rusty_colour':None,\n",
    "            'num_edges':7,\n",
    "            'diameter':27.3,\n",
    "            'thickness':1.78,\n",
    "            'mass':8.00\n",
    "        }\n",
    "        super().__init__(**data)\n",
    "        ## define polymorphism -- a new version for the fifty pence coin\n",
    "    def rust(self):\n",
    "            self.colour=self.clean_colour\n",
    "    def clean(self):\n",
    "            self.colour=self.clean_colour\n",
    "class One_Pound(Coin):\n",
    "    ## define a constructor method\n",
    "    def __init__(self):\n",
    "        \n",
    "        data={\n",
    "            'original_value':1.00,\n",
    "            'clean_colour':'gold',\n",
    "            'rusty_colour':'greenish',\n",
    "            'num_edges':1,\n",
    "            'diameter':22.5,\n",
    "            'thickness':3.15,\n",
    "            'mass':9.5\n",
    "        }\n",
    "        super().__init__(**data)\n",
    "class Two_Pound(Coin):\n",
    "    ## define a constructor method\n",
    "    def __init__(self):\n",
    "        \n",
    "        data={\n",
    "            'original_value':2.00,\n",
    "            'clean_colour':'gold&silver',\n",
    "            'rusty_colour':'greenish',\n",
    "            'num_edges':1,\n",
    "            'diameter':28.4,\n",
    "            'thickness':2.50,\n",
    "            'mass':12.00\n",
    "        }\n",
    "        super().__init__(**data)\n",
    "\n",
    "coins=[One_Pence(),Two_Pence(),Five_Pence(),Ten_Pence(),Twenty_Pence(),Fifty_Pence(),One_Pound(),Two_Pound()]\n",
    "for coin in coins:\n",
    "    arguments=[coin,coin.colour,coin.value,coin.diameter,coin.thickness,coin.num_edges,coin.mass]\n",
    "    string=\"{}- Colour:{},value:{},diameter(mm):{},thickness:{},number of edges:{},mass(g):{}\".format(*arguments)\n",
    "    print(string)"
   ]
  },
  {
   "cell_type": "markdown",
   "metadata": {},
   "source": [
    "### Project 5: Make Your Own Bank"
   ]
  },
  {
   "cell_type": "code",
   "execution_count": 299,
   "metadata": {
    "ExecuteTime": {
     "end_time": "2020-11-21T08:08:06.454737Z",
     "start_time": "2020-11-21T08:08:06.440781Z"
    }
   },
   "outputs": [],
   "source": [
    "class Account:\n",
    "    def __init__(self,name,balance,min_balance):\n",
    "        self.name=name\n",
    "        self.balance=balance\n",
    "        self.min_balance=min_balance\n",
    "    \n",
    "    def deposit(self,amount):\n",
    "        self.balance+=amount\n",
    "        \n",
    "    def withdraw(self,amount):\n",
    "        if self.balance-amount>=self.min_balance:\n",
    "            self.balance-=amount\n",
    "        else:\n",
    "            print(\"Sorry,not enough funds!\")\n",
    "    \n",
    "    def statement(self):\n",
    "        print(\"Account Balance: ${}\".format(self.balance))\n",
    "\n",
    "class Current(Account):\n",
    "    def __init__(self,name,balance):\n",
    "        super().__init__(name,balance,min_balance=-1000)\n",
    "    def __str__(self):\n",
    "        return \"{}'s current Account:Balance ${}\".format(self.name,self.balance)\n",
    "\n",
    "class Savings(Account):\n",
    "    def __init__(self,name,balance):\n",
    "        super().__init__(name,balance,min_balance=0) \n",
    "    def __str__(self):\n",
    "        return \"{}'s Savings Account:Balance ${}\".format(self.name,self.balance)"
   ]
  },
  {
   "cell_type": "code",
   "execution_count": 291,
   "metadata": {
    "ExecuteTime": {
     "end_time": "2020-11-21T08:03:59.995698Z",
     "start_time": "2020-11-21T08:03:59.989757Z"
    }
   },
   "outputs": [],
   "source": [
    "V=Current('Vincy',500)"
   ]
  },
  {
   "cell_type": "code",
   "execution_count": 292,
   "metadata": {
    "ExecuteTime": {
     "end_time": "2020-11-21T08:04:00.617562Z",
     "start_time": "2020-11-21T08:04:00.612580Z"
    }
   },
   "outputs": [],
   "source": [
    "V.deposit(500)"
   ]
  },
  {
   "cell_type": "code",
   "execution_count": 293,
   "metadata": {
    "ExecuteTime": {
     "end_time": "2020-11-21T08:04:01.181064Z",
     "start_time": "2020-11-21T08:04:01.176379Z"
    }
   },
   "outputs": [
    {
     "name": "stdout",
     "output_type": "stream",
     "text": [
      "Account Balance: $1000\n"
     ]
    }
   ],
   "source": [
    "V.statement()"
   ]
  },
  {
   "cell_type": "code",
   "execution_count": 294,
   "metadata": {
    "ExecuteTime": {
     "end_time": "2020-11-21T08:04:09.816920Z",
     "start_time": "2020-11-21T08:04:09.810894Z"
    }
   },
   "outputs": [],
   "source": [
    "V.withdraw(2000)"
   ]
  },
  {
   "cell_type": "code",
   "execution_count": 295,
   "metadata": {
    "ExecuteTime": {
     "end_time": "2020-11-21T08:04:10.512356Z",
     "start_time": "2020-11-21T08:04:10.506376Z"
    }
   },
   "outputs": [
    {
     "name": "stdout",
     "output_type": "stream",
     "text": [
      "Account Balance: $-1000\n"
     ]
    }
   ],
   "source": [
    "V.statement()"
   ]
  },
  {
   "cell_type": "code",
   "execution_count": 296,
   "metadata": {
    "ExecuteTime": {
     "end_time": "2020-11-21T08:04:12.183279Z",
     "start_time": "2020-11-21T08:04:12.177296Z"
    }
   },
   "outputs": [
    {
     "name": "stdout",
     "output_type": "stream",
     "text": [
      "Sorry,not enough funds!\n"
     ]
    }
   ],
   "source": [
    "V.withdraw(1)"
   ]
  },
  {
   "cell_type": "code",
   "execution_count": 297,
   "metadata": {
    "ExecuteTime": {
     "end_time": "2020-11-21T08:05:31.907764Z",
     "start_time": "2020-11-21T08:05:31.900963Z"
    }
   },
   "outputs": [
    {
     "name": "stdout",
     "output_type": "stream",
     "text": [
      "Vincy's current Account:Balance $-1000\n"
     ]
    }
   ],
   "source": [
    "print(V)"
   ]
  },
  {
   "cell_type": "code",
   "execution_count": 302,
   "metadata": {
    "ExecuteTime": {
     "end_time": "2020-11-21T08:08:55.641818Z",
     "start_time": "2020-11-21T08:08:55.636269Z"
    }
   },
   "outputs": [],
   "source": [
    "D=Savings(\"Daniel\",300)"
   ]
  },
  {
   "cell_type": "code",
   "execution_count": 303,
   "metadata": {
    "ExecuteTime": {
     "end_time": "2020-11-21T08:08:56.232655Z",
     "start_time": "2020-11-21T08:08:56.228256Z"
    }
   },
   "outputs": [
    {
     "name": "stdout",
     "output_type": "stream",
     "text": [
      "Daniel's Savings Account:Balance $300\n"
     ]
    }
   ],
   "source": [
    "print(D)"
   ]
  },
  {
   "cell_type": "code",
   "execution_count": 304,
   "metadata": {
    "ExecuteTime": {
     "end_time": "2020-11-21T08:09:12.946621Z",
     "start_time": "2020-11-21T08:09:12.942219Z"
    }
   },
   "outputs": [],
   "source": [
    "D.withdraw(300)"
   ]
  },
  {
   "cell_type": "code",
   "execution_count": 305,
   "metadata": {
    "ExecuteTime": {
     "end_time": "2020-11-21T08:09:20.621463Z",
     "start_time": "2020-11-21T08:09:20.614329Z"
    }
   },
   "outputs": [
    {
     "name": "stdout",
     "output_type": "stream",
     "text": [
      "Account Balance: $0\n"
     ]
    }
   ],
   "source": [
    "D.statement()"
   ]
  },
  {
   "cell_type": "code",
   "execution_count": 306,
   "metadata": {
    "ExecuteTime": {
     "end_time": "2020-11-21T08:09:33.871354Z",
     "start_time": "2020-11-21T08:09:33.866814Z"
    }
   },
   "outputs": [
    {
     "name": "stdout",
     "output_type": "stream",
     "text": [
      "Sorry,not enough funds!\n"
     ]
    }
   ],
   "source": [
    "D.withdraw(1)"
   ]
  },
  {
   "cell_type": "markdown",
   "metadata": {},
   "source": [
    "# Further Python Exercises and Practices"
   ]
  },
  {
   "cell_type": "markdown",
   "metadata": {},
   "source": [
    "## Code Challenges"
   ]
  },
  {
   "cell_type": "markdown",
   "metadata": {
    "ExecuteTime": {
     "end_time": "2020-11-20T09:27:56.190045Z",
     "start_time": "2020-11-20T09:27:56.186621Z"
    }
   },
   "source": [
    "### Capitalize the first letter of each word in a string"
   ]
  },
  {
   "cell_type": "code",
   "execution_count": 267,
   "metadata": {
    "ExecuteTime": {
     "end_time": "2020-11-20T09:21:13.949512Z",
     "start_time": "2020-11-20T09:21:13.942056Z"
    }
   },
   "outputs": [
    {
     "data": {
      "text/plain": [
       "\"How Can Mirrors Be Real If Our Eyes Aren't Real\""
      ]
     },
     "execution_count": 267,
     "metadata": {},
     "output_type": "execute_result"
    }
   ],
   "source": [
    "def to_jaden_case(string):\n",
    "    words=string.split()\n",
    "    new_words=[]\n",
    "    for word in words:\n",
    "        new_words.append(word.capitalize())\n",
    "    return  \" \".join(new_words)   \n",
    "quote=\"How can mirrors be real if our eyes aren't real\"\n",
    "to_jaden_case(quote)"
   ]
  },
  {
   "cell_type": "code",
   "execution_count": null,
   "metadata": {},
   "outputs": [],
   "source": []
  }
 ],
 "metadata": {
  "kernelspec": {
   "display_name": "Python 3",
   "language": "python",
   "name": "python3"
  },
  "language_info": {
   "codemirror_mode": {
    "name": "ipython",
    "version": 3
   },
   "file_extension": ".py",
   "mimetype": "text/x-python",
   "name": "python",
   "nbconvert_exporter": "python",
   "pygments_lexer": "ipython3",
   "version": "3.8.3"
  },
  "toc": {
   "base_numbering": 1,
   "nav_menu": {},
   "number_sections": true,
   "sideBar": true,
   "skip_h1_title": false,
   "title_cell": "Table of Contents",
   "title_sidebar": "Contents",
   "toc_cell": false,
   "toc_position": {},
   "toc_section_display": true,
   "toc_window_display": true
  },
  "varInspector": {
   "cols": {
    "lenName": 16,
    "lenType": 16,
    "lenVar": 40
   },
   "kernels_config": {
    "python": {
     "delete_cmd_postfix": "",
     "delete_cmd_prefix": "del ",
     "library": "var_list.py",
     "varRefreshCmd": "print(var_dic_list())"
    },
    "r": {
     "delete_cmd_postfix": ") ",
     "delete_cmd_prefix": "rm(",
     "library": "var_list.r",
     "varRefreshCmd": "cat(var_dic_list()) "
    }
   },
   "position": {
    "height": "368.667px",
    "left": "1067.33px",
    "right": "20px",
    "top": "120px",
    "width": "312.667px"
   },
   "types_to_exclude": [
    "module",
    "function",
    "builtin_function_or_method",
    "instance",
    "_Feature"
   ],
   "window_display": false
  }
 },
 "nbformat": 4,
 "nbformat_minor": 4
}
